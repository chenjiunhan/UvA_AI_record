{
 "cells": [
  {
   "cell_type": "markdown",
   "metadata": {
    "deletable": false,
    "editable": false,
    "nbgrader": {
     "checksum": "9a10081f57b90a368eb8daf62e3ba00e",
     "grade": false,
     "grade_id": "cell-02487845739eb4fd",
     "locked": true,
     "schema_version": 1,
     "solution": false
    }
   },
   "source": [
    "### Lab 3: Expectation Maximization and Variational Autoencoder\n",
    "\n",
    "### Machine Learning 2 (2017/2018)\n",
    "\n",
    "* The lab exercises should be made in groups of two or three people.\n",
    "* The deadline is Friday, 01.06.\n",
    "* Assignment should be submitted through BlackBoard! Make sure to include your and your teammates' names with the submission.\n",
    "* Attach the .IPYNB (IPython Notebook) file containing your code and answers. Naming of the file should be \"studentid1\\_studentid2\\_lab#\", for example, the attached file should be \"12345\\_12346\\_lab1.ipynb\". Only use underscores (\"\\_\") to connect ids, otherwise the files cannot be parsed.\n",
    "\n",
    "Notes on implementation:\n",
    "\n",
    "* You should write your code and answers in an IPython Notebook: http://ipython.org/notebook.html. If you have problems, please ask.\n",
    "* Use __one cell__ for code and markdown answers only!\n",
    "    * Put all code in the cell with the ```# YOUR CODE HERE``` comment and overwrite the ```raise NotImplementedError()``` line.\n",
    "    * For theoretical questions, put your solution using LaTeX style formatting in the YOUR ANSWER HERE cell.\n",
    "* Among the first lines of your notebook should be \"%pylab inline\". This imports all required modules, and your plots will appear inline.\n",
    "* Large parts of you notebook will be graded automatically. Therefore it is important that your notebook can be run completely without errors and within a reasonable time limit. To test your notebook before submission, select Kernel -> Restart \\& Run All.\n",
    "$\\newcommand{\\bx}{\\mathbf{x}} \\newcommand{\\bpi}{\\mathbf{\\pi}} \\newcommand{\\bmu}{\\mathbf{\\mu}} \\newcommand{\\bX}{\\mathbf{X}} \\newcommand{\\bZ}{\\mathbf{Z}} \\newcommand{\\bz}{\\mathbf{z}}$"
   ]
  },
  {
   "cell_type": "markdown",
   "metadata": {
    "deletable": false,
    "editable": false,
    "nbgrader": {
     "checksum": "e4e05229ee79b55d6589e1ea8de68f32",
     "grade": false,
     "grade_id": "cell-a0a6fdb7ca694bee",
     "locked": true,
     "schema_version": 1,
     "solution": false
    }
   },
   "source": [
    "### Installing PyTorch\n",
    "\n",
    "In this lab we will use PyTorch. PyTorch is an open source deep learning framework primarily developed by Facebook's artificial-intelligence research group. In order to install PyTorch in your conda environment go to https://pytorch.org and select your operating system, conda, Python 3.6, no cuda. Copy the text from the \"Run this command:\" box. Now open a terminal and activate your 'ml2labs' conda environment. Paste the text and run. After the installation is done you should restart Jupyter."
   ]
  },
  {
   "cell_type": "markdown",
   "metadata": {
    "deletable": false,
    "editable": false,
    "nbgrader": {
     "checksum": "d9c3d77f550b5fd93b34fd18825c47f0",
     "grade": false,
     "grade_id": "cell-746cac8d9a21943b",
     "locked": true,
     "schema_version": 1,
     "solution": false
    }
   },
   "source": [
    "### MNIST data\n",
    "\n",
    "In this Lab we will use several methods for unsupervised learning on the MNIST dataset of written digits. The dataset contains digital images of handwritten numbers $0$ through $9$. Each image has 28x28 pixels that each take 256 values in a range from white ($= 0$) to  black ($=1$). The labels belonging to the images are also included. \n",
    "Fortunately, PyTorch comes with a MNIST data loader. The first time you run the box below it will download the MNIST data set. That can take a couple of minutes.\n",
    "The main data types in PyTorch are tensors. For Part 1, we will convert those tensors to numpy arrays. In Part 2, we will use the torch module to directly work with PyTorch tensors."
   ]
  },
  {
   "cell_type": "code",
   "execution_count": 1,
   "metadata": {
    "deletable": false,
    "editable": false,
    "nbgrader": {
     "checksum": "4fbc152afa1255331d7b88bf00b7156c",
     "grade": false,
     "grade_id": "cell-7c995be0fda080c0",
     "locked": true,
     "schema_version": 1,
     "solution": false
    }
   },
   "outputs": [
    {
     "name": "stdout",
     "output_type": "stream",
     "text": [
      "Populating the interactive namespace from numpy and matplotlib\n"
     ]
    }
   ],
   "source": [
    "%pylab inline\n",
    "import torch\n",
    "from torchvision import datasets, transforms\n",
    "\n",
    "train_dataset = datasets.MNIST('../data', train=True, download=True,\n",
    "                   transform=transforms.Compose([\n",
    "                       transforms.ToTensor(),\n",
    "                       transforms.Normalize((0.1307,), (0.3081,))\n",
    "                   ]))\n",
    "\n",
    "train_labels = train_dataset.train_labels.numpy()\n",
    "train_data = train_dataset.train_data.numpy()\n",
    "# For EM we will use flattened data\n",
    "train_data = train_data.reshape(train_data.shape[0], -1)\n"
   ]
  },
  {
   "cell_type": "markdown",
   "metadata": {
    "deletable": false,
    "editable": false,
    "nbgrader": {
     "checksum": "4fc852f9bfb0bab10d4c23eada309e89",
     "grade": false,
     "grade_id": "cell-8b4a44df532b1867",
     "locked": true,
     "schema_version": 1,
     "solution": false
    }
   },
   "source": [
    "## Part 1: Expectation Maximization\n",
    "We will use the Expectation Maximization (EM) algorithm for the recognition of handwritten digits in the MNIST dataset. The images are modelled as a Bernoulli mixture model (see Bishop $\\S9.3.3$):\n",
    "$$\n",
    "p(\\bx|\\bmu, \\bpi) = \\sum_{k=1}^K  \\pi_k \\prod_{i=1}^D \\mu_{ki}^{x_i}(1-\\mu_{ki})^{(1-x_i)}\n",
    "$$\n",
    "where $x_i$ is the value of pixel $i$ in an image, $\\mu_{ki}$ represents the probability that pixel $i$ in class $k$ is black, and $\\{\\pi_1, \\ldots, \\pi_K\\}$ are the mixing coefficients of classes in the data. We want to use this data set to classify new images of handwritten numbers."
   ]
  },
  {
   "cell_type": "markdown",
   "metadata": {
    "deletable": false,
    "editable": false,
    "nbgrader": {
     "checksum": "54064637b7e7cf938c0f778d748a226a",
     "grade": false,
     "grade_id": "cell-af03fef663aa85b2",
     "locked": true,
     "schema_version": 1,
     "solution": false
    }
   },
   "source": [
    "### 1.1 Binary data (5 points)\n",
    "As we like to apply our Bernoulli mixture model, write a function `binarize` to convert the (flattened) MNIST data to binary images, where each pixel $x_i \\in \\{0,1\\}$, by thresholding at an appropriate level."
   ]
  },
  {
   "cell_type": "code",
   "execution_count": 2,
   "metadata": {
    "deletable": false,
    "nbgrader": {
     "checksum": "fe8607a4d734f7f26ef1ee1e54b33471",
     "grade": false,
     "grade_id": "cell-ec4365531ca57ef3",
     "locked": false,
     "schema_version": 1,
     "solution": true
    }
   },
   "outputs": [],
   "source": [
    "THRESHOLD = 80\n",
    "def binarize(X):    \n",
    "    # YOUR CODE HERE    \n",
    "    \n",
    "    global THRESHOLD \n",
    "    X = np.where(X < THRESHOLD, 0.0, 1.0)\n",
    "    \n",
    "    return X    "
   ]
  },
  {
   "cell_type": "code",
   "execution_count": 3,
   "metadata": {
    "deletable": false,
    "editable": false,
    "nbgrader": {
     "checksum": "231b2c9f29bc5c536c60cef4d74793a1",
     "grade": true,
     "grade_id": "cell-2f16f57cb68a83b3",
     "locked": true,
     "points": 5,
     "schema_version": 1,
     "solution": false
    }
   },
   "outputs": [],
   "source": [
    "# Test test test!\n",
    "bin_train_data = binarize(train_data)\n",
    "assert bin_train_data.dtype == np.float\n",
    "assert bin_train_data.shape == train_data.shape\n"
   ]
  },
  {
   "cell_type": "markdown",
   "metadata": {
    "deletable": false,
    "editable": false,
    "nbgrader": {
     "checksum": "a0a39404cc2f67078b399ee34653a3ac",
     "grade": false,
     "grade_id": "cell-462e747685e8670f",
     "locked": true,
     "schema_version": 1,
     "solution": false
    }
   },
   "source": [
    "Sample a few images of digits $2$, $3$ and $4$; and show both the original and the binarized image together with their label."
   ]
  },
  {
   "cell_type": "code",
   "execution_count": 4,
   "metadata": {
    "deletable": false,
    "nbgrader": {
     "checksum": "3f3c981f0fda5ba3bdfcefb9144305c7",
     "grade": true,
     "grade_id": "cell-784c6bd177a9aa42",
     "locked": false,
     "points": 5,
     "schema_version": 1,
     "solution": true
    }
   },
   "outputs": [
    {
     "data": {
      "image/png": "[encoded data removed]",
      "text/plain": [
       "<Figure size 432x288 with 12 Axes>"
      ]
     },
     "metadata": {},
     "output_type": "display_data"
    }
   ],
   "source": [
    "# YOUR CODE HERE\n",
    "digit_2_idx = numpy.where(train_labels == 2)[0]\n",
    "digit_3_idx = numpy.where(train_labels == 3)[0]\n",
    "digit_4_idx = numpy.where(train_labels == 4)[0]\n",
    "\n",
    "\n",
    "plt.subplot(621)\n",
    "plt.title(\"Original\")\n",
    "plt.axis('off')\n",
    "plt.imshow(train_data[digit_2_idx[0],:].reshape((28, 28)), cmap='gray')\n",
    "plt.subplot(623)\n",
    "plt.axis('off')\n",
    "plt.imshow(train_data[digit_2_idx[1],:].reshape((28, 28)), cmap='gray')\n",
    "plt.subplot(625)\n",
    "plt.axis('off')\n",
    "plt.imshow(train_data[digit_3_idx[0],:].reshape((28, 28)), cmap='gray')\n",
    "plt.subplot(627)\n",
    "plt.axis('off')\n",
    "plt.imshow(train_data[digit_3_idx[1],:].reshape((28, 28)), cmap='gray')\n",
    "plt.subplot(629)\n",
    "plt.axis('off')\n",
    "plt.imshow(train_data[digit_4_idx[0],:].reshape((28, 28)), cmap='gray')\n",
    "plt.subplot(6,2,11)\n",
    "plt.axis('off')\n",
    "plt.imshow(train_data[digit_4_idx[1],:].reshape((28, 28)), cmap='gray')\n",
    "\n",
    "\n",
    "plt.subplot(622)\n",
    "plt.title(\"Binary\")\n",
    "plt.axis('off')\n",
    "plt.imshow(bin_train_data[digit_2_idx[0],:].reshape((28, 28)), cmap='gray')\n",
    "plt.subplot(624)\n",
    "plt.axis('off')\n",
    "plt.imshow(bin_train_data[digit_2_idx[1],:].reshape((28, 28)), cmap='gray')\n",
    "plt.subplot(626)\n",
    "plt.axis('off')\n",
    "plt.imshow(bin_train_data[digit_3_idx[0],:].reshape((28, 28)), cmap='gray')\n",
    "plt.subplot(628)\n",
    "plt.axis('off')\n",
    "plt.imshow(bin_train_data[digit_3_idx[1],:].reshape((28, 28)), cmap='gray')\n",
    "plt.subplot(6, 2, 10)\n",
    "plt.axis('off')\n",
    "plt.imshow(bin_train_data[digit_4_idx[0],:].reshape((28, 28)), cmap='gray')\n",
    "plt.subplot(6, 2, 12)\n",
    "plt.axis('off')\n",
    "plt.imshow(bin_train_data[digit_4_idx[1],:].reshape((28, 28)), cmap='gray')\n",
    "\n",
    "\n",
    "\n",
    "plt.show()\n"
   ]
  },
  {
   "cell_type": "markdown",
   "metadata": {
    "deletable": false,
    "editable": false,
    "nbgrader": {
     "checksum": "4b9da574d24193df76e96ed8ca62c7b0",
     "grade": false,
     "grade_id": "cell-56b33654497d4052",
     "locked": true,
     "schema_version": 1,
     "solution": false
    }
   },
   "source": [
    "### 1.2 Implementation (40 points)\n",
    "You are going to write a function ```EM(X, K, max_iter)``` that implements the EM algorithm on the Bernoulli mixture model. \n",
    "\n",
    "The only parameters the function has are:\n",
    "* ```X``` :: (NxD) array of input training images\n",
    "* ```K``` :: size of the latent space\n",
    "* ```max_iter``` :: maximum number of iterations, i.e. one E-step and one M-step\n",
    "\n",
    "You are free to specify your return statement.\n",
    "\n",
    "Make sure you use a sensible way of terminating the iteration process early to prevent unnecessarily running through all epochs. Vectorize computations using ```numpy``` as  much as possible.\n",
    "\n",
    "You should implement the `E_step(X, mu, pi)` and `M_step(X, gamma)` separately in the functions defined below. These you can then use in your function `EM(X, K, max_iter)`."
   ]
  },
  {
   "cell_type": "code",
   "execution_count": 5,
   "metadata": {
    "deletable": false,
    "nbgrader": {
     "checksum": "316c9131692747c363b5db8e9091d362",
     "grade": false,
     "grade_id": "cell-882b13c117a73cc4",
     "locked": false,
     "schema_version": 1,
     "solution": true
    }
   },
   "outputs": [],
   "source": [
    "def E_step(X, mu, pi):\n",
    "    # YOUR CODE HERE\n",
    "    \n",
    "    gamma = np.ones((X.shape[0], pi.shape[0]))              \n",
    "    \n",
    "    for n in range(gamma.shape[0]):\n",
    "        for k in range(gamma.shape[1]):                        \n",
    "            gamma[n,k] = pi[k] * np.prod(mu[k,:] ** X[n,:] * (1 - mu[k,:]) ** (1 - X[n,:]))            \n",
    "        gamma[n,:] /= sum(gamma[n,:])\n",
    "        \n",
    "    return gamma"
   ]
  },
  {
   "cell_type": "code",
   "execution_count": 6,
   "metadata": {
    "deletable": false,
    "editable": false,
    "nbgrader": {
     "checksum": "1418f4014e98024fc97446ce27766c1d",
     "grade": true,
     "grade_id": "cell-f7c7dd52d82e2498",
     "locked": true,
     "points": 15,
     "schema_version": 1,
     "solution": false
    }
   },
   "outputs": [],
   "source": [
    "# Let's test on 5 datapoints\n",
    "n_test = 5\n",
    "X_test = bin_train_data[:n_test]\n",
    "D_test, K_test = X_test.shape[1], 10\n",
    "\n",
    "np.random.seed(2018)\n",
    "mu_test = np.random.uniform(low=.25, high=.75, size=(K_test,D_test))\n",
    "pi_test = np.ones(K_test) / K_test\n",
    "\n",
    "gamma_test = E_step(X_test, mu_test, pi_test)\n",
    "assert gamma_test.shape == (n_test, K_test)\n"
   ]
  },
  {
   "cell_type": "code",
   "execution_count": 7,
   "metadata": {
    "deletable": false,
    "nbgrader": {
     "checksum": "2c426a613653174795cd9c8327ab6e20",
     "grade": false,
     "grade_id": "cell-f1b11b8765bd1ef6",
     "locked": false,
     "schema_version": 1,
     "solution": true
    }
   },
   "outputs": [],
   "source": [
    "def M_step(X, gamma):\n",
    "    # YOUR CODE HERE\n",
    "    \n",
    "    gamma_sum_n = np.sum(gamma, axis = 0)[:,None]\n",
    "    mu = gamma.T.dot(X) / gamma_sum_n\n",
    "    pi = (gamma_sum_n / np.sum(gamma_sum_n)).reshape(-1)\n",
    "    \n",
    "    return mu, pi"
   ]
  },
  {
   "cell_type": "code",
   "execution_count": 8,
   "metadata": {
    "deletable": false,
    "editable": false,
    "nbgrader": {
     "checksum": "0f60d48b8b22063cef560b42944a0aa4",
     "grade": true,
     "grade_id": "cell-6e7c751b30acfd45",
     "locked": true,
     "points": 15,
     "schema_version": 1,
     "solution": false
    }
   },
   "outputs": [],
   "source": [
    "# Oh, let's test again\n",
    "mu_test, pi_test = M_step(X_test, gamma_test)\n",
    "\n",
    "assert mu_test.shape == (K_test,D_test)\n",
    "assert pi_test.shape == (K_test, )\n"
   ]
  },
  {
   "cell_type": "code",
   "execution_count": 9,
   "metadata": {
    "deletable": false,
    "nbgrader": {
     "checksum": "acfec6384b058cb0ce1932006fbfebc4",
     "grade": true,
     "grade_id": "cell-d6c4368246dee7e6",
     "locked": false,
     "points": 10,
     "schema_version": 1,
     "solution": true
    }
   },
   "outputs": [],
   "source": [
    "def EM(X, K, max_iter, mu=None, pi=None):\n",
    "    # YOUR CODE HERE\n",
    "    \n",
    "    if type(mu) == type(None):\n",
    "        mu = np.random.uniform(low=.25, high=.75, size=(K, X.shape[1]))\n",
    "        \n",
    "    if type(pi) == type(None):        \n",
    "        pi = np.ones(K) / K\n",
    "            \n",
    "    for i in range(max_iter):\n",
    "        \n",
    "        gamma = E_step(X, mu, pi)\n",
    "        mu, pi = M_step(X, gamma)        \n",
    "        \n",
    "    \n",
    "    return gamma, mu, pi"
   ]
  },
  {
   "cell_type": "markdown",
   "metadata": {
    "deletable": false,
    "editable": false,
    "nbgrader": {
     "checksum": "b4fc12faa0da660f7a4d9cc7deb41b25",
     "grade": false,
     "grade_id": "cell-e1077ed3b83489be",
     "locked": true,
     "schema_version": 1,
     "solution": false
    }
   },
   "source": [
    "### 1.3 Three digits experiment (10 points)\n",
    "In analogue with Bishop $\\S9.3.3$, sample a training set consisting of only __binary__ images of written digits $2$, $3$, and $4$. Run your EM algorithm and show the reconstructed digits."
   ]
  },
  {
   "cell_type": "code",
   "execution_count": 10,
   "metadata": {
    "deletable": false,
    "nbgrader": {
     "checksum": "bdbce0fad0ed151063d4c489ce999e3e",
     "grade": true,
     "grade_id": "cell-477155d0264d7259",
     "locked": false,
     "points": 5,
     "schema_version": 1,
     "solution": true
    },
    "scrolled": true
   },
   "outputs": [
    {
     "name": "stdout",
     "output_type": "stream",
     "text": [
      "----------Traning Result----------\n"
     ]
    },
    {
     "data": {
      "image/png": "[encoded data removed]",
      "text/plain": [
       "<Figure size 72x72 with 1 Axes>"
      ]
     },
     "metadata": {},
     "output_type": "display_data"
    },
    {
     "data": {
      "image/png": "[encoded data removed]",
      "text/plain": [
       "<Figure size 72x72 with 1 Axes>"
      ]
     },
     "metadata": {},
     "output_type": "display_data"
    },
    {
     "data": {
      "image/png": "[encoded data removed]",
      "text/plain": [
       "<Figure size 72x72 with 1 Axes>"
      ]
     },
     "metadata": {},
     "output_type": "display_data"
    }
   ],
   "source": [
    "# YOUR CODE HERE\n",
    "bin_train_data_234 = np.concatenate((np.concatenate((bin_train_data[digit_2_idx], bin_train_data[digit_3_idx])), bin_train_data[digit_4_idx]))\n",
    "label_234 = np.concatenate((np.concatenate((train_labels[digit_2_idx], train_labels[digit_3_idx])), train_labels[digit_4_idx]))\n",
    "\n",
    "digit_234_idx = np.concatenate((digit_2_idx, digit_3_idx, digit_4_idx))\n",
    "\n",
    "bin_train_data_234 = bin_train_data[digit_234_idx]\n",
    "label_234 = train_labels[digit_234_idx]\n",
    "\n",
    "K = 3\n",
    "MAX_ITER = 20\n",
    "\n",
    "gamma, mu, pi = EM(bin_train_data_234, K, MAX_ITER)\n",
    "\n",
    "print(\"----------Traning Result----------\")\n",
    "\n",
    "for k in range(K):\n",
    "    plt.figure(figsize=(1, 1))\n",
    "    plt.axis('off')\n",
    "    plt.imshow(mu[k,:].reshape((28, 28)), cmap='gray')\n",
    "    plt.show()"
   ]
  },
  {
   "cell_type": "markdown",
   "metadata": {
    "deletable": false,
    "editable": false,
    "nbgrader": {
     "checksum": "485543f4893938d2a9dc1c17d8221cbc",
     "grade": false,
     "grade_id": "cell-88c9664f995b1909",
     "locked": true,
     "schema_version": 1,
     "solution": false
    }
   },
   "source": [
    "Can you identify which element in the latent space corresponds to which digit? What are the identified mixing coefficients for digits $2$, $3$ and $4$, and how do these compare to the true ones?"
   ]
  },
  {
   "cell_type": "markdown",
   "metadata": {
    "deletable": false,
    "nbgrader": {
     "checksum": "ae7b5acea6089e2590059f90b0d0a0be",
     "grade": true,
     "grade_id": "cell-3680ae2159c48193",
     "locked": false,
     "points": 5,
     "schema_version": 1,
     "solution": true
    }
   },
   "source": [
    "We can calculate the square of difference between mu of labeled data and mu of classifed data. And we use the minimum value of square of difference to identify the mixing coefficients."
   ]
  },
  {
   "cell_type": "markdown",
   "metadata": {
    "deletable": false,
    "editable": false,
    "nbgrader": {
     "checksum": "98e04feb59a36867367b3027df9e226d",
     "grade": false,
     "grade_id": "cell-0891dda1c3e80e9a",
     "locked": true,
     "schema_version": 1,
     "solution": false
    }
   },
   "source": [
    "### 1.4 Experiments (20 points)\n",
    "Perform the follow-up experiments listed below using your implementation of the EM algorithm. For each of these, describe/comment on the obtained results and give an explanation. You may still use your dataset with only digits 2, 3 and 4 as otherwise computations can take very long."
   ]
  },
  {
   "cell_type": "markdown",
   "metadata": {
    "deletable": false,
    "editable": false,
    "nbgrader": {
     "checksum": "439067186fa3ef1d7261a9bcf5a84ea6",
     "grade": false,
     "grade_id": "cell-06fe1b1355689928",
     "locked": true,
     "schema_version": 1,
     "solution": false
    }
   },
   "source": [
    "#### 1.4.1 Size of the latent space (5 points)\n",
    "Run EM with $K$ larger or smaller than the true number of classes. Describe your results."
   ]
  },
  {
   "cell_type": "code",
   "execution_count": 11,
   "metadata": {
    "deletable": false,
    "nbgrader": {
     "checksum": "791512aeadd30c4b586b966ca10e6fad",
     "grade": true,
     "grade_id": "cell-6c9057f2546b7215",
     "locked": false,
     "points": 2,
     "schema_version": 1,
     "solution": true
    },
    "scrolled": false
   },
   "outputs": [
    {
     "name": "stdout",
     "output_type": "stream",
     "text": [
      "----------LARGER K, K = 4-------------\n"
     ]
    },
    {
     "data": {
      "image/png": "[encoded data removed]",
      "text/plain": [
       "<Figure size 72x72 with 1 Axes>"
      ]
     },
     "metadata": {},
     "output_type": "display_data"
    },
    {
     "data": {
      "image/png": "[encoded data removed]",
      "text/plain": [
       "<Figure size 72x72 with 1 Axes>"
      ]
     },
     "metadata": {},
     "output_type": "display_data"
    },
    {
     "data": {
      "image/png": "[encoded data removed]",
      "text/plain": [
       "<Figure size 72x72 with 1 Axes>"
      ]
     },
     "metadata": {},
     "output_type": "display_data"
    },
    {
     "data": {
      "image/png": "[encoded data removed]",
      "text/plain": [
       "<Figure size 72x72 with 1 Axes>"
      ]
     },
     "metadata": {},
     "output_type": "display_data"
    },
    {
     "name": "stdout",
     "output_type": "stream",
     "text": [
      "----------SMALLER K, K = 2-------------\n"
     ]
    },
    {
     "data": {
      "image/png": "[encoded data removed]",
      "text/plain": [
       "<Figure size 72x72 with 1 Axes>"
      ]
     },
     "metadata": {},
     "output_type": "display_data"
    },
    {
     "data": {
      "image/png": "[encoded data removed]",
      "text/plain": [
       "<Figure size 72x72 with 1 Axes>"
      ]
     },
     "metadata": {},
     "output_type": "display_data"
    }
   ],
   "source": [
    "# YOUR CODE HERE\n",
    "\n",
    "K = 4\n",
    "MAX_ITER = 10\n",
    "\n",
    "gamma4, mu4, pi4 = EM(bin_train_data_234, K, MAX_ITER)\n",
    "\n",
    "print('----------LARGER K, K = 4-------------')\n",
    "\n",
    "for k in range(K): \n",
    "    plt.figure(figsize=(1, 1))\n",
    "    plt.axis('off')\n",
    "    plt.imshow(mu4[k,:].reshape((28, 28)), cmap='gray')\n",
    "    plt.show()\n",
    "\n",
    "print('----------SMALLER K, K = 2-------------')\n",
    "    \n",
    "K = 2\n",
    "MAX_ITER = 10\n",
    "\n",
    "gamma2, mu2, pi2 = EM(bin_train_data_234, K, MAX_ITER)\n",
    "\n",
    "for k in range(K):\n",
    "    plt.figure(figsize=(1, 1))\n",
    "    plt.axis('off')\n",
    "    plt.imshow(mu2[k,:].reshape((28, 28)), cmap='gray')\n",
    "    plt.show()    \n",
    "    \n"
   ]
  },
  {
   "cell_type": "markdown",
   "metadata": {
    "deletable": false,
    "nbgrader": {
     "checksum": "e12e40c2d2165e3bb500b5504128910d",
     "grade": true,
     "grade_id": "cell-f01c37653160244b",
     "locked": false,
     "points": 3,
     "schema_version": 1,
     "solution": true
    }
   },
   "source": [
    "For the larger K, it even can classify different handwriting styles for one digit. In our result, it gave us two styles for digit 2. For smaller k, it would classify multiple digits into one class. In our result, because 2, 3 are similar than 2, 4 and 3, 4 in pair, that's why we got such result."
   ]
  },
  {
   "cell_type": "markdown",
   "metadata": {
    "deletable": false,
    "editable": false,
    "nbgrader": {
     "checksum": "b306681523a2e35eea310ac10bb68999",
     "grade": false,
     "grade_id": "cell-cf478d67239b7f2e",
     "locked": true,
     "schema_version": 1,
     "solution": false
    }
   },
   "source": [
    "#### 1.4.2 Identify misclassifications (10 points)\n",
    "How can you use the data labels to assign a label to each of the clusters/latent variables? Use this to identify images that are 'misclassified' and try to understand why they are. Report your findings."
   ]
  },
  {
   "cell_type": "code",
   "execution_count": 12,
   "metadata": {
    "deletable": false,
    "nbgrader": {
     "checksum": "000c11bd8756a4e24296c7c55d3ee17e",
     "grade": true,
     "grade_id": "cell-daa1a492fbba5c7e",
     "locked": false,
     "points": 5,
     "schema_version": 1,
     "solution": true
    },
    "scrolled": false
   },
   "outputs": [
    {
     "name": "stdout",
     "output_type": "stream",
     "text": [
      "--------Visualized mu------------\n"
     ]
    },
    {
     "data": {
      "image/png": "[encoded data removed]",
      "text/plain": [
       "<Figure size 72x72 with 1 Axes>"
      ]
     },
     "metadata": {},
     "output_type": "display_data"
    },
    {
     "data": {
      "image/png": "[encoded data removed]",
      "text/plain": [
       "<Figure size 72x72 with 1 Axes>"
      ]
     },
     "metadata": {},
     "output_type": "display_data"
    },
    {
     "data": {
      "image/png": "[encoded data removed]",
      "text/plain": [
       "<Figure size 72x72 with 1 Axes>"
      ]
     },
     "metadata": {},
     "output_type": "display_data"
    },
    {
     "name": "stdout",
     "output_type": "stream",
     "text": [
      "Correctness: 0.8988344208354246\n",
      "\n",
      "--------Wrong Samples------------\n",
      "\n"
     ]
    },
    {
     "data": {
      "image/png": "[encoded data removed]",
      "text/plain": [
       "<Figure size 72x72 with 1 Axes>"
      ]
     },
     "metadata": {},
     "output_type": "display_data"
    },
    {
     "data": {
      "image/png": "[encoded data removed]",
      "text/plain": [
       "<Figure size 72x72 with 1 Axes>"
      ]
     },
     "metadata": {},
     "output_type": "display_data"
    },
    {
     "data": {
      "image/png": "[encoded data removed]",
      "text/plain": [
       "<Figure size 72x72 with 1 Axes>"
      ]
     },
     "metadata": {},
     "output_type": "display_data"
    },
    {
     "data": {
      "image/png": "[encoded data removed]",
      "text/plain": [
       "<Figure size 72x72 with 1 Axes>"
      ]
     },
     "metadata": {},
     "output_type": "display_data"
    },
    {
     "data": {
      "image/png": "[encoded data removed]",
      "text/plain": [
       "<Figure size 72x72 with 1 Axes>"
      ]
     },
     "metadata": {},
     "output_type": "display_data"
    },
    {
     "data": {
      "image/png": "[encoded data removed]",
      "text/plain": [
       "<Figure size 72x72 with 1 Axes>"
      ]
     },
     "metadata": {},
     "output_type": "display_data"
    },
    {
     "data": {
      "image/png": "[encoded data removed]",
      "text/plain": [
       "<Figure size 72x72 with 1 Axes>"
      ]
     },
     "metadata": {},
     "output_type": "display_data"
    },
    {
     "data": {
      "image/png": "[encoded data removed]",
      "text/plain": [
       "<Figure size 72x72 with 1 Axes>"
      ]
     },
     "metadata": {},
     "output_type": "display_data"
    },
    {
     "data": {
      "image/png": "[encoded data removed]",
      "text/plain": [
       "<Figure size 72x72 with 1 Axes>"
      ]
     },
     "metadata": {},
     "output_type": "display_data"
    },
    {
     "data": {
      "image/png": "[encoded data removed]",
      "text/plain": [
       "<Figure size 72x72 with 1 Axes>"
      ]
     },
     "metadata": {},
     "output_type": "display_data"
    },
    {
     "name": "stdout",
     "output_type": "stream",
     "text": [
      "--------Correct Samples------------\n"
     ]
    },
    {
     "data": {
      "image/png": "[encoded data removed]",
      "text/plain": [
       "<Figure size 72x72 with 1 Axes>"
      ]
     },
     "metadata": {},
     "output_type": "display_data"
    },
    {
     "data": {
      "image/png": "[encoded data removed]",
      "text/plain": [
       "<Figure size 72x72 with 1 Axes>"
      ]
     },
     "metadata": {},
     "output_type": "display_data"
    },
    {
     "data": {
      "image/png": "[encoded data removed]",
      "text/plain": [
       "<Figure size 72x72 with 1 Axes>"
      ]
     },
     "metadata": {},
     "output_type": "display_data"
    },
    {
     "data": {
      "image/png": "[encoded data removed]",
      "text/plain": [
       "<Figure size 72x72 with 1 Axes>"
      ]
     },
     "metadata": {},
     "output_type": "display_data"
    },
    {
     "data": {
      "image/png": "[encoded data removed]",
      "text/plain": [
       "<Figure size 72x72 with 1 Axes>"
      ]
     },
     "metadata": {},
     "output_type": "display_data"
    },
    {
     "data": {
      "image/png": "[encoded data removed]",
      "text/plain": [
       "<Figure size 72x72 with 1 Axes>"
      ]
     },
     "metadata": {},
     "output_type": "display_data"
    },
    {
     "data": {
      "image/png": "[encoded data removed]",
      "text/plain": [
       "<Figure size 72x72 with 1 Axes>"
      ]
     },
     "metadata": {},
     "output_type": "display_data"
    },
    {
     "data": {
      "image/png": "[encoded data removed]",
      "text/plain": [
       "<Figure size 72x72 with 1 Axes>"
      ]
     },
     "metadata": {},
     "output_type": "display_data"
    },
    {
     "data": {
      "image/png": "[encoded data removed]",
      "text/plain": [
       "<Figure size 72x72 with 1 Axes>"
      ]
     },
     "metadata": {},
     "output_type": "display_data"
    },
    {
     "data": {
      "image/png": "[encoded data removed]",
      "text/plain": [
       "<Figure size 72x72 with 1 Axes>"
      ]
     },
     "metadata": {},
     "output_type": "display_data"
    }
   ],
   "source": [
    "# YOUR CODE HERE\n",
    "mu_2 = np.mean(bin_train_data[digit_2_idx], axis = 0)\n",
    "mu_3 = np.mean(bin_train_data[digit_3_idx], axis = 0)\n",
    "mu_4 = np.mean(bin_train_data[digit_4_idx], axis = 0)\n",
    "\n",
    "mu_compare = np.array([mu_2, mu_3, mu_4])\n",
    "mu_classification = []\n",
    "\n",
    "for mu_single in mu:\n",
    "    mu_label = np.argmin(sum((mu_single - mu_compare) ** 2, axis = 1)) + 2\n",
    "    mu_classification += [mu_label]\n",
    "    \n",
    "print('--------Visualized mu------------')\n",
    "    \n",
    "for k in range(3): \n",
    "    plt.figure(figsize=(1, 1))\n",
    "    plt.axis('off')\n",
    "    plt.imshow(mu[k,:].reshape((28, 28)), cmap='gray')\n",
    "    plt.show()    \n",
    "\n",
    "correct = 0\n",
    "correct_idx = []\n",
    "\n",
    "wrong = 0\n",
    "wrong_idx = []\n",
    "\n",
    "mu_compare2 = mu\n",
    "\n",
    "for idx, bin_data in enumerate(bin_train_data_234):\n",
    "    mu_label = np.argmin(sum((bin_data - mu_compare2) ** 2, axis = 1))\n",
    "    if mu_classification[mu_label] != label_234[idx]:\n",
    "        wrong += 1\n",
    "        wrong_idx += [idx]\n",
    "    else:\n",
    "        correct += 1    \n",
    "        correct_idx += [idx]\n",
    "        \n",
    "print(\"Correctness:\", correct / (correct + wrong))\n",
    "\n",
    "print(\"\")\n",
    "\n",
    "print('--------Wrong Samples------------')\n",
    "\n",
    "wrong_idx = np.array(wrong_idx)\n",
    "perm = np.arange(wrong_idx.shape[0])\n",
    "np.random.shuffle(perm)\n",
    "wrong_idx = wrong_idx[perm]\n",
    "\n",
    "print(\"\")\n",
    "\n",
    "for bin_data in bin_train_data_234[wrong_idx[0:10]]:\n",
    "    plt.figure(figsize=(1, 1))\n",
    "    plt.axis('off')\n",
    "    plt.imshow(bin_data.reshape((28, 28)), cmap='gray')\n",
    "    plt.show()\n",
    "    \n",
    "print('--------Correct Samples------------')\n",
    "    \n",
    "correct_idx = np.array(correct_idx)\n",
    "perm = np.arange(correct_idx.shape[0])\n",
    "np.random.shuffle(perm)\n",
    "correct_idx = correct_idx[perm]\n",
    "\n",
    "for bin_data in bin_train_data_234[correct_idx[0:10]]:\n",
    "    plt.figure(figsize=(1, 1))\n",
    "    plt.axis('off')\n",
    "    plt.imshow(bin_data.reshape((28, 28)), cmap='gray')\n",
    "    plt.show()  "
   ]
  },
  {
   "cell_type": "markdown",
   "metadata": {
    "deletable": false,
    "nbgrader": {
     "checksum": "baf43434481c13d76ad51e3ba07e2bf5",
     "grade": true,
     "grade_id": "cell-329245c02df7850d",
     "locked": false,
     "points": 5,
     "schema_version": 1,
     "solution": true
    }
   },
   "source": [
    "The handwriting style of wrong samples are more uglier and accurater to me, which could make digit 2 and 3 hard to distinguish. Most of correct samples are neat and clear."
   ]
  },
  {
   "cell_type": "markdown",
   "metadata": {
    "deletable": false,
    "editable": false,
    "nbgrader": {
     "checksum": "640bc57a2d08c3becf534bb5e4b35971",
     "grade": false,
     "grade_id": "cell-67ce1222e8a7837b",
     "locked": true,
     "schema_version": 1,
     "solution": false
    }
   },
   "source": [
    "#### 1.4.3 Initialize with true values (5 points)\n",
    "Initialize the three classes with the true values of the parameters and see what happens. Report your results."
   ]
  },
  {
   "cell_type": "code",
   "execution_count": 13,
   "metadata": {
    "deletable": false,
    "nbgrader": {
     "checksum": "a48f788e286458ef0f776865a3bcd58b",
     "grade": true,
     "grade_id": "cell-aa5d6b9f941d985d",
     "locked": false,
     "points": 2,
     "schema_version": 1,
     "solution": true
    }
   },
   "outputs": [
    {
     "name": "stdout",
     "output_type": "stream",
     "text": [
      "Iter 1:\n"
     ]
    },
    {
     "data": {
      "image/png": "[encoded data removed]",
      "text/plain": [
       "<Figure size 72x72 with 1 Axes>"
      ]
     },
     "metadata": {},
     "output_type": "display_data"
    },
    {
     "data": {
      "image/png": "[encoded data removed]",
      "text/plain": [
       "<Figure size 72x72 with 1 Axes>"
      ]
     },
     "metadata": {},
     "output_type": "display_data"
    },
    {
     "data": {
      "image/png": "[encoded data removed]",
      "text/plain": [
       "<Figure size 72x72 with 1 Axes>"
      ]
     },
     "metadata": {},
     "output_type": "display_data"
    },
    {
     "name": "stdout",
     "output_type": "stream",
     "text": [
      "Iter 2:\n"
     ]
    },
    {
     "data": {
      "image/png": "[encoded data removed]",
      "text/plain": [
       "<Figure size 72x72 with 1 Axes>"
      ]
     },
     "metadata": {},
     "output_type": "display_data"
    },
    {
     "data": {
      "image/png": "[encoded data removed]",
      "text/plain": [
       "<Figure size 72x72 with 1 Axes>"
      ]
     },
     "metadata": {},
     "output_type": "display_data"
    },
    {
     "data": {
      "image/png": "[encoded data removed]",
      "text/plain": [
       "<Figure size 72x72 with 1 Axes>"
      ]
     },
     "metadata": {},
     "output_type": "display_data"
    },
    {
     "name": "stdout",
     "output_type": "stream",
     "text": [
      "Iter 3:\n"
     ]
    },
    {
     "data": {
      "image/png": "[encoded data removed]",
      "text/plain": [
       "<Figure size 72x72 with 1 Axes>"
      ]
     },
     "metadata": {},
     "output_type": "display_data"
    },
    {
     "data": {
      "image/png": "[encoded data removed]",
      "text/plain": [
       "<Figure size 72x72 with 1 Axes>"
      ]
     },
     "metadata": {},
     "output_type": "display_data"
    },
    {
     "data": {
      "image/png": "[encoded data removed]",
      "text/plain": [
       "<Figure size 72x72 with 1 Axes>"
      ]
     },
     "metadata": {},
     "output_type": "display_data"
    },
    {
     "name": "stdout",
     "output_type": "stream",
     "text": [
      "Iter 4:\n"
     ]
    },
    {
     "data": {
      "image/png": "[encoded data removed]",
      "text/plain": [
       "<Figure size 72x72 with 1 Axes>"
      ]
     },
     "metadata": {},
     "output_type": "display_data"
    },
    {
     "data": {
      "image/png": "[encoded data removed]",
      "text/plain": [
       "<Figure size 72x72 with 1 Axes>"
      ]
     },
     "metadata": {},
     "output_type": "display_data"
    },
    {
     "data": {
      "image/png": "[encoded data removed]",
      "text/plain": [
       "<Figure size 72x72 with 1 Axes>"
      ]
     },
     "metadata": {},
     "output_type": "display_data"
    },
    {
     "name": "stdout",
     "output_type": "stream",
     "text": [
      "Iter 5:\n"
     ]
    },
    {
     "data": {
      "image/png": "[encoded data removed]",
      "text/plain": [
       "<Figure size 72x72 with 1 Axes>"
      ]
     },
     "metadata": {},
     "output_type": "display_data"
    },
    {
     "data": {
      "image/png": "[encoded data removed]",
      "text/plain": [
       "<Figure size 72x72 with 1 Axes>"
      ]
     },
     "metadata": {},
     "output_type": "display_data"
    },
    {
     "data": {
      "image/png": "[encoded data removed]",
      "text/plain": [
       "<Figure size 72x72 with 1 Axes>"
      ]
     },
     "metadata": {},
     "output_type": "display_data"
    },
    {
     "name": "stdout",
     "output_type": "stream",
     "text": [
      "Iter 6:\n"
     ]
    },
    {
     "data": {
      "image/png": "[encoded data removed]",
      "text/plain": [
       "<Figure size 72x72 with 1 Axes>"
      ]
     },
     "metadata": {},
     "output_type": "display_data"
    },
    {
     "data": {
      "image/png": "[encoded data removed]",
      "text/plain": [
       "<Figure size 72x72 with 1 Axes>"
      ]
     },
     "metadata": {},
     "output_type": "display_data"
    },
    {
     "data": {
      "image/png": "[encoded data removed]",
      "text/plain": [
       "<Figure size 72x72 with 1 Axes>"
      ]
     },
     "metadata": {},
     "output_type": "display_data"
    },
    {
     "name": "stdout",
     "output_type": "stream",
     "text": [
      "Iter 7:\n"
     ]
    },
    {
     "data": {
      "image/png": "[encoded data removed]",
      "text/plain": [
       "<Figure size 72x72 with 1 Axes>"
      ]
     },
     "metadata": {},
     "output_type": "display_data"
    },
    {
     "data": {
      "image/png": "[encoded data removed]",
      "text/plain": [
       "<Figure size 72x72 with 1 Axes>"
      ]
     },
     "metadata": {},
     "output_type": "display_data"
    },
    {
     "data": {
      "image/png": "[encoded data removed]",
      "text/plain": [
       "<Figure size 72x72 with 1 Axes>"
      ]
     },
     "metadata": {},
     "output_type": "display_data"
    },
    {
     "name": "stdout",
     "output_type": "stream",
     "text": [
      "Iter 8:\n"
     ]
    },
    {
     "data": {
      "image/png": "[encoded data removed]",
      "text/plain": [
       "<Figure size 72x72 with 1 Axes>"
      ]
     },
     "metadata": {},
     "output_type": "display_data"
    },
    {
     "data": {
      "image/png": "[encoded data removed]",
      "text/plain": [
       "<Figure size 72x72 with 1 Axes>"
      ]
     },
     "metadata": {},
     "output_type": "display_data"
    },
    {
     "data": {
      "image/png": "[encoded data removed]",
      "text/plain": [
       "<Figure size 72x72 with 1 Axes>"
      ]
     },
     "metadata": {},
     "output_type": "display_data"
    },
    {
     "name": "stdout",
     "output_type": "stream",
     "text": [
      "Iter 9:\n"
     ]
    },
    {
     "data": {
      "image/png": "[encoded data removed]",
      "text/plain": [
       "<Figure size 72x72 with 1 Axes>"
      ]
     },
     "metadata": {},
     "output_type": "display_data"
    },
    {
     "data": {
      "image/png": "[encoded data removed]",
      "text/plain": [
       "<Figure size 72x72 with 1 Axes>"
      ]
     },
     "metadata": {},
     "output_type": "display_data"
    },
    {
     "data": {
      "image/png": "[encoded data removed]",
      "text/plain": [
       "<Figure size 72x72 with 1 Axes>"
      ]
     },
     "metadata": {},
     "output_type": "display_data"
    },
    {
     "name": "stdout",
     "output_type": "stream",
     "text": [
      "Iter 10:\n"
     ]
    },
    {
     "data": {
      "image/png": "[encoded data removed]",
      "text/plain": [
       "<Figure size 72x72 with 1 Axes>"
      ]
     },
     "metadata": {},
     "output_type": "display_data"
    },
    {
     "data": {
      "image/png": "[encoded data removed]",
      "text/plain": [
       "<Figure size 72x72 with 1 Axes>"
      ]
     },
     "metadata": {},
     "output_type": "display_data"
    },
    {
     "data": {
      "image/png": "[encoded data removed]",
      "text/plain": [
       "<Figure size 72x72 with 1 Axes>"
      ]
     },
     "metadata": {},
     "output_type": "display_data"
    }
   ],
   "source": [
    "# YOUR CODE HERE\n",
    "K = 3\n",
    "MAX_ITER = 10\n",
    "mu_real = mu_compare\n",
    "pi_real = np.array([len(digit_2_idx), len(digit_3_idx), len(digit_4_idx)])\n",
    "pi_real = pi_real / sum(pi_real)\n",
    "for i_iter in range(MAX_ITER):\n",
    "    gamma_real, mu_real, pi_real = EM(bin_train_data_234, K, 1, mu_compare, pi_real)\n",
    "\n",
    "    print(\"Iter \" + str(i_iter + 1) + \":\")\n",
    "    for k in range(K):        \n",
    "        plt.figure(figsize=(1, 1))\n",
    "        plt.axis('off')\n",
    "        plt.imshow(mu_real[k,:].reshape((28, 28)), cmap='gray')\n",
    "        plt.show()"
   ]
  },
  {
   "cell_type": "markdown",
   "metadata": {
    "deletable": false,
    "nbgrader": {
     "checksum": "1dc4adf3081f3bec93f94c3b12b87db9",
     "grade": true,
     "grade_id": "cell-981e44f35a3764b0",
     "locked": false,
     "points": 3,
     "schema_version": 1,
     "solution": true
    }
   },
   "source": [
    "It only change a little bit. Because the true parameters are good approximation to classify 3 digits."
   ]
  },
  {
   "cell_type": "markdown",
   "metadata": {
    "deletable": false,
    "editable": false,
    "nbgrader": {
     "checksum": "bd613f41e5d2b7d22b0d5b1e7644a48a",
     "grade": false,
     "grade_id": "cell-19bfd7cf4017ed84",
     "locked": true,
     "schema_version": 1,
     "solution": false
    }
   },
   "source": [
    "## Part 2: Variational Auto-Encoder\n",
    "\n",
    "A Variational Auto-Encoder (VAE) is a probabilistic model $p(\\bx, \\bz)$ over observed variables $\\bx$ and latent variables and/or parameters $\\bz$. Here we distinguish the decoder part, $p(\\bx | \\bz) p(\\bz)$ and an encoder part $p(\\bz | \\bx)$ that are both specified with a neural network. A lower bound on the log marginal likelihood $\\log p(\\bx)$ can be obtained by approximately inferring the latent variables z from the observed data x using an encoder distribution $q(\\bz| \\bx)$ that is also specified as a neural network. This lower bound is then optimized to fit the model to the data. \n",
    "\n",
    "The model was introduced by Diederik Kingma (during his PhD at the UVA) and Max Welling in 2013, https://arxiv.org/abs/1312.6114. \n",
    "\n",
    "Since it is such an important model there are plenty of well written tutorials that should help you with the assignment. E.g: https://jaan.io/what-is-variational-autoencoder-vae-tutorial/.\n",
    "\n",
    "In the following, we will make heavily use of the torch module, https://pytorch.org/docs/stable/index.html. Most of the time replacing `np.` with `torch.` will do the trick, e.g. `np.sum` becomes `torch.sum` and `np.log` becomes `torch.log`. In addition, we will use `torch.FloatTensor()` as an equivalent to `np.array()`. In order to train our VAE efficiently we will make use of batching. The number of data points in a batch will become the first dimension of our data tensor, e.g. A batch of 128 MNIST images has the dimensions [128, 1, 28, 28]. To check check the dimensions of a tensor you can call `.size()`."
   ]
  },
  {
   "cell_type": "markdown",
   "metadata": {
    "deletable": false,
    "editable": false,
    "nbgrader": {
     "checksum": "92bd337f41c3f94777f47376c7149ca7",
     "grade": false,
     "grade_id": "cell-bcbe35b20c1007d3",
     "locked": true,
     "schema_version": 1,
     "solution": false
    }
   },
   "source": [
    "### 2.1 Loss function\n",
    "The objective function (variational lower bound), that we will use to train the VAE, consists of two terms: a log Bernoulli loss (reconstruction loss) and a Kullback–Leibler divergence. We implement the two terms separately and combine them in the end.\n",
    "As seen in Part 1: Expectation Maximization, we can use a multivariate Bernoulli distribution to model the likelihood $p(\\bx | \\bz)$ of black and white images. Formally, the variational lower bound is maximized but in PyTorch we are always minimizing therefore we need to calculate the negative log Bernoulli loss and Kullback–Leibler divergence."
   ]
  },
  {
   "cell_type": "markdown",
   "metadata": {
    "deletable": false,
    "editable": false,
    "nbgrader": {
     "checksum": "3fb5f70b132e1233983ef89d19998374",
     "grade": false,
     "grade_id": "cell-389d81024af846e5",
     "locked": true,
     "schema_version": 1,
     "solution": false
    }
   },
   "source": [
    "### 2.1.1 Negative Log Bernoulli loss (5 points)\n",
    "The negative log Bernoulli loss is defined as,\n",
    "\n",
    "\\begin{align}\n",
    "loss = - (\\sum_i^D \\bx_i \\log \\hat{\\bx_i} + (1 − \\bx_i) \\log(1 − \\hat{\\bx_i})).\n",
    "\\end{align}\n",
    "\n",
    "Write a function `log_bernoulli_loss` that takes a D dimensional vector `x`, its reconstruction `x_hat` and returns the negative log Bernoulli loss. Make sure that your function works for batches of arbitrary size."
   ]
  },
  {
   "cell_type": "code",
   "execution_count": 14,
   "metadata": {
    "deletable": false,
    "nbgrader": {
     "checksum": "952435ca03f47ab67a7e88b8306fc9a0",
     "grade": false,
     "grade_id": "cell-1d504606d6f99145",
     "locked": false,
     "schema_version": 1,
     "solution": true
    }
   },
   "outputs": [],
   "source": [
    "def log_bernoulli_loss(x_hat, x):\n",
    "    \n",
    "    # YOUR CODE HERE    \n",
    "    loss = -(torch.sum(x * torch.log(x_hat) + (1 - x) * torch.log(1 - x_hat)))    \n",
    "    return loss\n"
   ]
  },
  {
   "cell_type": "code",
   "execution_count": 15,
   "metadata": {
    "deletable": false,
    "editable": false,
    "nbgrader": {
     "checksum": "bd2a490aa694507bd032e86d77fc0087",
     "grade": true,
     "grade_id": "cell-9666dad0b2a9f483",
     "locked": true,
     "points": 5,
     "schema_version": 1,
     "solution": false
    }
   },
   "outputs": [],
   "source": [
    "### Test test test\n",
    "x_test = torch.FloatTensor([[0.1, 0.2, 0.3, 0.4], [0.5, 0.6, 0.7, 0.8], [0.9, 0.9, 0.9, 0.9]])\n",
    "x_hat_test = torch.FloatTensor([[0.11, 0.22, 0.33, 0.44], [0.55, 0.66, 0.77, 0.88], [0.99, 0.99, 0.99, 0.99]])\n",
    "\n",
    "assert log_bernoulli_loss(x_hat_test, x_test) > 0.0\n",
    "assert log_bernoulli_loss(x_hat_test, x_test) < 10.0\n"
   ]
  },
  {
   "cell_type": "markdown",
   "metadata": {
    "deletable": false,
    "editable": false,
    "nbgrader": {
     "checksum": "6b75b7a531ecc87bce57925c4da464ee",
     "grade": false,
     "grade_id": "cell-b3a7c02dee7aa505",
     "locked": true,
     "schema_version": 1,
     "solution": false
    }
   },
   "source": [
    "### 2.1.2 Negative Kullback–Leibler divergence (10 Points)\n",
    "The variational lower bound (the objective to be maximized) contains a KL term $D_{KL}(q(\\bz)||p(\\bz))$ that can often be calculated analytically. In the VAE we assume $q = N(\\bz, \\mu, \\sigma^2I)$ and $p = N(\\bz, 0, I)$. Solve analytically!"
   ]
  },
  {
   "cell_type": "markdown",
   "metadata": {
    "deletable": false,
    "nbgrader": {
     "checksum": "d01a7e7fe2dcf5f1c5fb955b85c8a04a",
     "grade": true,
     "grade_id": "cell-4cab10fd1a636858",
     "locked": false,
     "points": 5,
     "schema_version": 1,
     "solution": true
    }
   },
   "source": [
    "From our homework 2 Problem 3.1, KL of two Gaussian distribution can be written as $\\frac{1}{2}[\\ln(\\frac{|L|}{|\\Sigma|}) - D + Tr(\\Sigma L^{-1}) + (\\vec{\\mu} - \\vec{m})^T L^{-1}(\\vec{\\mu} - \\vec{m})]$.\n",
    "\n",
    "We use this formula in this case, so it will be: \n",
    "$$KL(q||p) = \\frac{1}{2}[\\ln(det(\\sigma^2 I)) - d + Tr(\\sigma^2 I) + \\vec{\\mu}^T\\vec{\\mu}]$$"
   ]
  },
  {
   "cell_type": "markdown",
   "metadata": {
    "deletable": false,
    "editable": false,
    "nbgrader": {
     "checksum": "328115c94a66e8aba0a62896e647c3ba",
     "grade": false,
     "grade_id": "cell-c49899cbf2a49362",
     "locked": true,
     "schema_version": 1,
     "solution": false
    }
   },
   "source": [
    "Write a function `KL_loss` that takes two J dimensional vectors `mu` and `logvar` and returns the negative Kullback–Leibler divergence. Where `logvar` is $\\log(\\sigma^2)$. Make sure that your function works for batches of arbitrary size."
   ]
  },
  {
   "cell_type": "code",
   "execution_count": 16,
   "metadata": {
    "deletable": false,
    "nbgrader": {
     "checksum": "33b14b79372dd0235d67bb66921cd3e0",
     "grade": false,
     "grade_id": "cell-125b41878005206b",
     "locked": false,
     "schema_version": 1,
     "solution": true
    }
   },
   "outputs": [],
   "source": [
    "def KL_loss(mu, logvar):\n",
    "    \n",
    "    # YOUR CODE HERE            \n",
    "    var = logvar    \n",
    "    loss = 0.5 * (torch.sum(torch.exp(var)) + torch.sum(mu ** 2) - float(len(mu)) - torch.sum(var))\n",
    "    \n",
    "    return loss\n"
   ]
  },
  {
   "cell_type": "code",
   "execution_count": 17,
   "metadata": {
    "deletable": false,
    "editable": false,
    "nbgrader": {
     "checksum": "cf72e196d2b60827e8e940681ac50a07",
     "grade": true,
     "grade_id": "cell-ba714bbe270a3f39",
     "locked": true,
     "points": 5,
     "schema_version": 1,
     "solution": false
    }
   },
   "outputs": [],
   "source": [
    "### Test test test\n",
    "mu_test = torch.FloatTensor([[0.1, 0.2], [0.3, 0.4], [0.5, 0.6]])\n",
    "logvar_test = torch.FloatTensor([[0.01, 0.02], [0.03, 0.04], [0.05, 0.06]])\n",
    "\n",
    "assert KL_loss(mu_test, logvar_test) > 0.0\n",
    "assert KL_loss(mu_test, logvar_test) < 10.0\n"
   ]
  },
  {
   "cell_type": "markdown",
   "metadata": {
    "deletable": false,
    "editable": false,
    "nbgrader": {
     "checksum": "65335a588baac26bc48dd6c4d275fdca",
     "grade": false,
     "grade_id": "cell-18cb3f8031edec23",
     "locked": true,
     "schema_version": 1,
     "solution": false
    }
   },
   "source": [
    "### 2.1.3 Putting the losses together (5 points)\n",
    "Write a function `loss_function` that takes a D dimensional vector `x`, its reconstruction `x_hat`, two J dimensional vectors `mu` and `logvar` and returns the final loss. Make sure that your function works for batches of arbitrary size."
   ]
  },
  {
   "cell_type": "code",
   "execution_count": 18,
   "metadata": {
    "deletable": false,
    "nbgrader": {
     "checksum": "f6ecb5b60b2c8d7b90070ed59320ee70",
     "grade": false,
     "grade_id": "cell-d2d18781683f1302",
     "locked": false,
     "schema_version": 1,
     "solution": true
    }
   },
   "outputs": [],
   "source": [
    "def loss_function(x_hat, x, mu, logvar):\n",
    "    \n",
    "    # YOUR CODE HERE    \n",
    "    loss = log_bernoulli_loss(x_hat, x) + KL_loss(mu, logvar)\n",
    "    return loss\n"
   ]
  },
  {
   "cell_type": "code",
   "execution_count": 19,
   "metadata": {
    "deletable": false,
    "editable": false,
    "nbgrader": {
     "checksum": "816e9508408bfcb2c7332b508d505081",
     "grade": true,
     "grade_id": "cell-57747988d29bbb5d",
     "locked": true,
     "points": 5,
     "schema_version": 1,
     "solution": false
    }
   },
   "outputs": [],
   "source": [
    "x_test = torch.FloatTensor([[0.1, 0.2, 0.3], [0.4, 0.5, 0.6], [0.7, 0.8, 0.9]])\n",
    "x_hat_test = torch.FloatTensor([[0.11, 0.22, 0.33], [0.44, 0.55, 0.66], [0.77, 0.88, 0.99]])\n",
    "mu_test = torch.FloatTensor([[0.1, 0.2], [0.3, 0.4], [0.5, 0.6]])\n",
    "logvar_test = torch.FloatTensor([[0.01, 0.02], [0.03, 0.04], [0.05, 0.06]])\n",
    "\n",
    "assert loss_function(x_hat_test, x_test, mu_test, logvar_test) > 0.0\n",
    "assert loss_function(x_hat_test, x_test, mu_test, logvar_test) < 10.0\n"
   ]
  },
  {
   "cell_type": "markdown",
   "metadata": {
    "deletable": false,
    "editable": false,
    "nbgrader": {
     "checksum": "4506e06ed44a0535140582277a528ba4",
     "grade": false,
     "grade_id": "cell-9e3ba708967fe918",
     "locked": true,
     "schema_version": 1,
     "solution": false
    }
   },
   "source": [
    "### 2.2 The model\n",
    "Below you see a data structure for the VAE. The modell itself consists of two main parts the encoder (images $\\bx$ to latent variables $\\bz$) and the decoder (latent variables $\\bz$ to images $\\bx$). The encoder is using 3 fully-connected layers, whereas the decoder is using fully-connected layers. Right now the data structure is quite empty, step by step will update its functionality. For test purposes we will initialize a VAE for you. After the data structure is completed you will do the hyperparameter search.\n"
   ]
  },
  {
   "cell_type": "code",
   "execution_count": 20,
   "metadata": {
    "deletable": false,
    "editable": false,
    "nbgrader": {
     "checksum": "31eccf2f6600764e28eb4bc6c5634e49",
     "grade": false,
     "grade_id": "cell-e7d9dafee18f28a1",
     "locked": true,
     "schema_version": 1,
     "solution": false
    }
   },
   "outputs": [],
   "source": [
    "from torch import nn\n",
    "from torch.nn import functional as F \n",
    "\n",
    "class VAE(nn.Module):\n",
    "    def __init__(self, fc1_dims, fc21_dims, fc22_dims, fc3_dims, fc4_dims):\n",
    "        super(VAE, self).__init__()\n",
    "\n",
    "        self.fc1 = nn.Linear(*fc1_dims)\n",
    "        self.fc21 = nn.Linear(*fc21_dims)\n",
    "        self.fc22 = nn.Linear(*fc22_dims)\n",
    "        self.fc3 = nn.Linear(*fc3_dims)\n",
    "        self.fc4 = nn.Linear(*fc4_dims)\n",
    "\n",
    "    def encode(self, x):\n",
    "        # To be implemented\n",
    "        raise Exception('Method not implemented')\n",
    "\n",
    "    def reparameterize(self, mu, logvar):\n",
    "        # To be implemented\n",
    "        raise Exception('Method not implemented')\n",
    "\n",
    "    def decode(self, z):\n",
    "        # To be implemented\n",
    "        raise Exception('Method not implemented')\n",
    "\n",
    "    def forward(self, x):\n",
    "        # To be implemented\n",
    "        raise Exception('Method not implemented')\n",
    "\n",
    "VAE_test = VAE(fc1_dims=(784, 4), fc21_dims=(4, 2), fc22_dims=(4, 2), fc3_dims=(2, 4), fc4_dims=(4, 784))\n"
   ]
  },
  {
   "cell_type": "markdown",
   "metadata": {
    "deletable": false,
    "editable": false,
    "nbgrader": {
     "checksum": "1a2243397998b4f55c25dfd734f3e7e0",
     "grade": false,
     "grade_id": "cell-c4f9e841b8972a43",
     "locked": true,
     "schema_version": 1,
     "solution": false
    }
   },
   "source": [
    "### 2.3 Encoding (10 points)\n",
    "Write a function `encode` that gets a vector `x` with 784 elements (flattened MNIST image) and returns `mu` and `logvar`. Your function should use three fully-connected layers (`self.fc1()`, `self.fc21()`, `self.fc22()`). First, you should use `self.fc1()` to embed `x`. Second, you should use `self.fc21()` and `self.fc22()` on the embedding of `x` to compute `mu` and `logvar` respectively. PyTorch comes with a variety of activation functions, the most common calls are `F.relu()`, `F.sigmoid()`, `F.tanh()`. Make sure that your function works for batches of arbitrary size.  "
   ]
  },
  {
   "cell_type": "code",
   "execution_count": 21,
   "metadata": {
    "deletable": false,
    "nbgrader": {
     "checksum": "628bcd88c611cf01e70f77854600199b",
     "grade": false,
     "grade_id": "cell-93cb75b98ae76569",
     "locked": false,
     "schema_version": 1,
     "solution": true
    }
   },
   "outputs": [],
   "source": [
    "def encode(self, x):\n",
    "    \n",
    "    # YOUR CODE HERE\n",
    "    x = F.relu(self.fc1(x))\n",
    "    mu = self.fc21(x)\n",
    "    logvar = self.fc22(x)\n",
    "    \n",
    "    return mu, logvar\n"
   ]
  },
  {
   "cell_type": "code",
   "execution_count": 22,
   "metadata": {
    "deletable": false,
    "editable": false,
    "nbgrader": {
     "checksum": "370d930fa9f10f1d3a451f3805c04d88",
     "grade": true,
     "grade_id": "cell-9648960b73337a70",
     "locked": true,
     "points": 10,
     "schema_version": 1,
     "solution": false
    }
   },
   "outputs": [],
   "source": [
    "### Test, test, test\n",
    "VAE.encode = encode\n",
    "\n",
    "x_test = torch.ones((5,784))\n",
    "mu_test, logvar_test = VAE_test.encode(x_test)\n",
    "\n",
    "assert np.allclose(mu_test.size(), [5, 2])\n",
    "assert np.allclose(logvar_test.size(), [5, 2])\n"
   ]
  },
  {
   "cell_type": "markdown",
   "metadata": {
    "deletable": false,
    "editable": false,
    "nbgrader": {
     "checksum": "6f597cc2b5ef941af282d7162297f865",
     "grade": false,
     "grade_id": "cell-581b4ed1996be868",
     "locked": true,
     "schema_version": 1,
     "solution": false
    }
   },
   "source": [
    "### 2.4 Reparameterization (10 points)\n",
    "One of the major question that the VAE is answering, is 'how to take derivatives with respect to the parameters of a stochastic variable?', i.e. if we are given $\\bz$ that is drawn from a distribution $q(\\bz|\\bx)$, and we want to take derivatives. This step is necessary to be able to use gradient-based optimization algorithms like SGD.\n",
    "For some distributions, it is possible to reparameterize samples in a clever way, such that the stochasticity is independent of the parameters. We want our samples to deterministically depend on the parameters of the distribution. For example, in a normally-distributed variable with mean $\\mu$ and standard deviation $\\sigma$, we can sample from it like this:\n",
    "\n",
    "\\begin{align}\n",
    "\\bz = \\mu + \\sigma \\odot \\epsilon,\n",
    "\\end{align}\n",
    "\n",
    "where $\\odot$ is the element-wise multiplication and $\\epsilon$ is sampled from $N(0, I)$.\n",
    "\n",
    "\n",
    "Write a function `reparameterize` that takes two J dimensional vectors `mu` and `logvar`. It should return $\\bz = \\mu + \\sigma \\odot \\epsilon$.\n"
   ]
  },
  {
   "cell_type": "code",
   "execution_count": 23,
   "metadata": {
    "deletable": false,
    "nbgrader": {
     "checksum": "6331cb5dd23aaacbcf1a52cfecb1afaa",
     "grade": false,
     "grade_id": "cell-679aea8b2adf7ec4",
     "locked": false,
     "schema_version": 1,
     "solution": true
    }
   },
   "outputs": [],
   "source": [
    "def reparameterize(self, mu, logvar):\n",
    "            \n",
    "    # YOUR CODE HERE\n",
    "    epsilon = torch.randn(mu.size()[0], mu.size()[1])    \n",
    "    z = mu + torch.exp(logvar / 2) * epsilon\n",
    "    \n",
    "    return z\n"
   ]
  },
  {
   "cell_type": "code",
   "execution_count": 24,
   "metadata": {
    "deletable": false,
    "editable": false,
    "nbgrader": {
     "checksum": "38d4e047717ab334b262c8c177f0a420",
     "grade": true,
     "grade_id": "cell-fdd7b27a3d17f84e",
     "locked": true,
     "points": 10,
     "schema_version": 1,
     "solution": false
    }
   },
   "outputs": [],
   "source": [
    "### Test, test, test\n",
    "VAE.reparameterize = reparameterize\n",
    "VAE_test.train()\n",
    "\n",
    "mu_test = torch.FloatTensor([[0.1, 0.2], [0.3, 0.4], [0.5, 0.6]])\n",
    "logvar_test = torch.FloatTensor([[0.01, 0.02], [0.03, 0.04], [0.05, 0.06]])\n",
    "\n",
    "z_test = VAE_test.reparameterize(mu_test, logvar_test)\n",
    "\n",
    "assert np.allclose(z_test.size(), [3, 2])\n",
    "assert z_test[0][0] < 5.0\n",
    "assert z_test[0][0] > -5.0\n"
   ]
  },
  {
   "cell_type": "markdown",
   "metadata": {
    "deletable": false,
    "editable": false,
    "nbgrader": {
     "checksum": "9241ab0eaf8366c37ad57072ce66f095",
     "grade": false,
     "grade_id": "cell-0be851f9f7f0a93e",
     "locked": true,
     "schema_version": 1,
     "solution": false
    }
   },
   "source": [
    "### 2.5 Decoding (10 points)\n",
    "Write a function `decode` that gets a vector `z` with J elements and returns a vector `x_hat` with 784 elements (flattened MNIST image). Your function should use two fully-connected layers (`self.fc3()`, `self.fc4()`). PyTorch comes with a variety of activation functions, the most common calls are `F.relu()`, `F.sigmoid()`, `F.tanh()`. Make sure that your function works for batches of arbitrary size."
   ]
  },
  {
   "cell_type": "code",
   "execution_count": 25,
   "metadata": {
    "deletable": false,
    "nbgrader": {
     "checksum": "e8e833cfd7c54a9b67a38056d5d6cab8",
     "grade": false,
     "grade_id": "cell-bf92bb3878275a41",
     "locked": false,
     "schema_version": 1,
     "solution": true
    }
   },
   "outputs": [],
   "source": [
    "def decode(self, z):\n",
    "    \n",
    "    # YOUR CODE HERE\n",
    "    z = F.relu(self.fc3(z))\n",
    "    x_hat = F.sigmoid(self.fc4(z))\n",
    "    \n",
    "    return x_hat\n"
   ]
  },
  {
   "cell_type": "code",
   "execution_count": 26,
   "metadata": {
    "deletable": false,
    "editable": false,
    "nbgrader": {
     "checksum": "7732293fd7d971fcf255496e8c68638d",
     "grade": true,
     "grade_id": "cell-4abb91cb9e80af5d",
     "locked": true,
     "points": 10,
     "schema_version": 1,
     "solution": false
    }
   },
   "outputs": [],
   "source": [
    "# test test test\n",
    "VAE.decode = decode\n",
    "\n",
    "z_test = torch.ones((5,2))\n",
    "x_hat_test = VAE_test.decode(z_test)\n",
    "\n",
    "assert np.allclose(x_hat_test.size(), [5, 784])\n",
    "assert (x_hat_test <= 1).all()\n",
    "assert (x_hat_test >= 0).all()\n"
   ]
  },
  {
   "cell_type": "markdown",
   "metadata": {
    "deletable": false,
    "editable": false,
    "nbgrader": {
     "checksum": "e2e113d1f45398b2a1399c336526e755",
     "grade": false,
     "grade_id": "cell-97511fbc4f5b469b",
     "locked": true,
     "schema_version": 1,
     "solution": false
    }
   },
   "source": [
    "### 2.6 Forward pass (10)\n",
    "To complete the data structure you have to define a forward pass through the VAE. A single forward pass consists of the encoding of an MNIST image $\\bx$ into latent space $\\bz$, the reparameterization of $\\bz$ and the decoding of $\\bz$ into an image $\\bx$.\n",
    "\n",
    "Write a function `forward` that gets a a vector `x` with 784 elements (flattened MNIST image) and returns a vector `x_hat` with 784 elements (flattened MNIST image), `mu` and `logvar`."
   ]
  },
  {
   "cell_type": "code",
   "execution_count": 27,
   "metadata": {
    "deletable": false,
    "nbgrader": {
     "checksum": "8b7433c4631dd01c07a5fe287e55ae13",
     "grade": false,
     "grade_id": "cell-26bb463b9f98ebd5",
     "locked": false,
     "schema_version": 1,
     "solution": true
    }
   },
   "outputs": [],
   "source": [
    "def forward(self, x):\n",
    "    x = x.view(-1, 784)\n",
    "    \n",
    "    # YOUR CODE HERE\n",
    "    mu, logvar = encode(self, x)\n",
    "    z = reparameterize(self, mu, logvar)\n",
    "    x_hat = decode(self, z)    \n",
    "    \n",
    "    return x_hat, mu, logvar\n"
   ]
  },
  {
   "cell_type": "code",
   "execution_count": 28,
   "metadata": {
    "deletable": false,
    "editable": false,
    "nbgrader": {
     "checksum": "8e7e495f40465c162512e9873c360b25",
     "grade": true,
     "grade_id": "cell-347e5fba3d02754b",
     "locked": true,
     "points": 10,
     "schema_version": 1,
     "solution": false
    }
   },
   "outputs": [],
   "source": [
    "# test test test \n",
    "VAE.forward = forward\n",
    "\n",
    "x_test = torch.ones((5,784))\n",
    "x_hat_test, mu_test, logvar_test = VAE_test.forward(x_test)\n",
    "\n",
    "assert np.allclose(x_hat_test.size(), [5, 784])\n",
    "assert np.allclose(mu_test.size(), [5, 2])\n",
    "assert np.allclose(logvar_test.size(), [5, 2])\n"
   ]
  },
  {
   "cell_type": "markdown",
   "metadata": {
    "deletable": false,
    "editable": false,
    "nbgrader": {
     "checksum": "a114a6fd781fb949b887e6a028e07946",
     "grade": false,
     "grade_id": "cell-62c89e4d3b253671",
     "locked": true,
     "schema_version": 1,
     "solution": false
    }
   },
   "source": [
    "### 2.7 Training (15)\n",
    "We will now train the VAE using an optimizer called Adam, https://arxiv.org/abs/1412.6980. The code to train a model in PyTorch is given below."
   ]
  },
  {
   "cell_type": "code",
   "execution_count": 29,
   "metadata": {
    "deletable": false,
    "editable": false,
    "nbgrader": {
     "checksum": "f3b6bb965fb48229c63cacda48baea65",
     "grade": false,
     "grade_id": "cell-be75f61b09f3b9b6",
     "locked": true,
     "schema_version": 1,
     "solution": false
    }
   },
   "outputs": [],
   "source": [
    "from torch.autograd import Variable\n",
    "\n",
    "def train(epoch, train_loader, model, optimizer):\n",
    "    model.train()\n",
    "    train_loss = 0\n",
    "    for batch_idx, (data, _) in enumerate(train_loader):\n",
    "        data = Variable(data)\n",
    "        optimizer.zero_grad()\n",
    "        recon_batch, mu, logvar = model(data)\n",
    "        loss = loss_function(recon_batch, data.view(-1, 784), mu, logvar)\n",
    "        loss.backward()\n",
    "        train_loss += loss.data\n",
    "        optimizer.step()\n",
    "        if batch_idx % 100 == 0:\n",
    "            print('Train Epoch: {} [{}/{} ({:.0f}%)]\\tLoss: {:.6f}'.format(\n",
    "                epoch, batch_idx * len(data), len(train_loader.dataset),\n",
    "                100. * batch_idx / len(train_loader),\n",
    "                loss.data / len(data)))\n",
    "\n",
    "    print('====> Epoch: {} Average loss: {:.4f}'.format(\n",
    "          epoch, train_loss / len(train_loader.dataset)))\n"
   ]
  },
  {
   "cell_type": "markdown",
   "metadata": {
    "deletable": false,
    "editable": false,
    "nbgrader": {
     "checksum": "48ca730dbef06a668f4dfdb24888f265",
     "grade": false,
     "grade_id": "cell-da1b063b7de850b9",
     "locked": true,
     "schema_version": 1,
     "solution": false
    }
   },
   "source": [
    "Let's train. You have to choose the hyperparameters. Make sure your loss is going down in a reasonable amount of epochs (around 10)."
   ]
  },
  {
   "cell_type": "code",
   "execution_count": 30,
   "metadata": {
    "deletable": false,
    "nbgrader": {
     "checksum": "846430258fb80f50b161135448726520",
     "grade": false,
     "grade_id": "cell-d4d4408d397f6967",
     "locked": false,
     "schema_version": 1,
     "solution": true
    }
   },
   "outputs": [],
   "source": [
    "# Hyperparameters\n",
    "fc1_dims = (784, 128)\n",
    "fc21_dims = (128, 96)\n",
    "fc22_dims = (128, 96)\n",
    "fc3_dims = (96, 128)\n",
    "fc4_dims = (128, 784)\n",
    "lr = 3e-3\n",
    "batch_size = 32\n",
    "epochs = 10\n",
    "\n",
    "# YOUR CODE HERE\n",
    "#raise NotImplementedError()\n"
   ]
  },
  {
   "cell_type": "code",
   "execution_count": 31,
   "metadata": {
    "deletable": false,
    "editable": false,
    "nbgrader": {
     "checksum": "b93390f399b743276bc25e67493344f2",
     "grade": true,
     "grade_id": "cell-ca352d8389c1809a",
     "locked": true,
     "points": 15,
     "schema_version": 1,
     "solution": false
    }
   },
   "outputs": [],
   "source": [
    "# This cell contains a hidden test, please don't delete it, thx"
   ]
  },
  {
   "cell_type": "markdown",
   "metadata": {
    "deletable": false,
    "editable": false,
    "nbgrader": {
     "checksum": "20719070ed85964de9722acc3456a515",
     "grade": false,
     "grade_id": "cell-5c77370db7cec9f2",
     "locked": true,
     "schema_version": 1,
     "solution": false
    }
   },
   "source": [
    "Run the box below to train the model using the hyperparameters you entered above."
   ]
  },
  {
   "cell_type": "code",
   "execution_count": 32,
   "metadata": {
    "deletable": false,
    "editable": false,
    "nbgrader": {
     "checksum": "38306be3638e85812bd5b2a052fcc0a4",
     "grade": false,
     "grade_id": "cell-5712d42de1068398",
     "locked": true,
     "schema_version": 1,
     "solution": false
    }
   },
   "outputs": [
    {
     "name": "stdout",
     "output_type": "stream",
     "text": [
      "Train Epoch: 1 [0/60000 (0%)]\tLoss: 599.060303\n",
      "Train Epoch: 1 [3200/60000 (5%)]\tLoss: 244.126343\n",
      "Train Epoch: 1 [6400/60000 (11%)]\tLoss: 212.755447\n",
      "Train Epoch: 1 [9600/60000 (16%)]\tLoss: 222.492691\n",
      "Train Epoch: 1 [12800/60000 (21%)]\tLoss: 207.289093\n",
      "Train Epoch: 1 [16000/60000 (27%)]\tLoss: 183.342926\n",
      "Train Epoch: 1 [19200/60000 (32%)]\tLoss: 192.188568\n",
      "Train Epoch: 1 [22400/60000 (37%)]\tLoss: 194.037323\n",
      "Train Epoch: 1 [25600/60000 (43%)]\tLoss: 200.062531\n",
      "Train Epoch: 1 [28800/60000 (48%)]\tLoss: 184.618927\n",
      "Train Epoch: 1 [32000/60000 (53%)]\tLoss: 180.418091\n",
      "Train Epoch: 1 [35200/60000 (59%)]\tLoss: 191.925690\n",
      "Train Epoch: 1 [38400/60000 (64%)]\tLoss: 185.668579\n",
      "Train Epoch: 1 [41600/60000 (69%)]\tLoss: 177.447754\n",
      "Train Epoch: 1 [44800/60000 (75%)]\tLoss: 165.822067\n",
      "Train Epoch: 1 [48000/60000 (80%)]\tLoss: 178.550720\n",
      "Train Epoch: 1 [51200/60000 (85%)]\tLoss: 175.913300\n",
      "Train Epoch: 1 [54400/60000 (91%)]\tLoss: 169.530365\n",
      "Train Epoch: 1 [57600/60000 (96%)]\tLoss: 179.044540\n",
      "====> Epoch: 1 Average loss: 194.2715\n",
      "Train Epoch: 2 [0/60000 (0%)]\tLoss: 166.386597\n",
      "Train Epoch: 2 [3200/60000 (5%)]\tLoss: 167.133331\n",
      "Train Epoch: 2 [6400/60000 (11%)]\tLoss: 171.327850\n",
      "Train Epoch: 2 [9600/60000 (16%)]\tLoss: 173.265289\n",
      "Train Epoch: 2 [12800/60000 (21%)]\tLoss: 168.516296\n",
      "Train Epoch: 2 [16000/60000 (27%)]\tLoss: 155.376434\n",
      "Train Epoch: 2 [19200/60000 (32%)]\tLoss: 166.294800\n",
      "Train Epoch: 2 [22400/60000 (37%)]\tLoss: 166.715225\n",
      "Train Epoch: 2 [25600/60000 (43%)]\tLoss: 159.101212\n",
      "Train Epoch: 2 [28800/60000 (48%)]\tLoss: 176.061035\n",
      "Train Epoch: 2 [32000/60000 (53%)]\tLoss: 159.380646\n",
      "Train Epoch: 2 [35200/60000 (59%)]\tLoss: 170.640564\n",
      "Train Epoch: 2 [38400/60000 (64%)]\tLoss: 170.464874\n",
      "Train Epoch: 2 [41600/60000 (69%)]\tLoss: 175.759933\n",
      "Train Epoch: 2 [44800/60000 (75%)]\tLoss: 173.872818\n",
      "Train Epoch: 2 [48000/60000 (80%)]\tLoss: 168.354126\n",
      "Train Epoch: 2 [51200/60000 (85%)]\tLoss: 168.854584\n",
      "Train Epoch: 2 [54400/60000 (91%)]\tLoss: 163.628082\n",
      "Train Epoch: 2 [57600/60000 (96%)]\tLoss: 172.691025\n",
      "====> Epoch: 2 Average loss: 167.5448\n",
      "Train Epoch: 3 [0/60000 (0%)]\tLoss: 165.604034\n",
      "Train Epoch: 3 [3200/60000 (5%)]\tLoss: 165.327957\n",
      "Train Epoch: 3 [6400/60000 (11%)]\tLoss: 172.229019\n",
      "Train Epoch: 3 [9600/60000 (16%)]\tLoss: 161.137924\n",
      "Train Epoch: 3 [12800/60000 (21%)]\tLoss: 164.568588\n",
      "Train Epoch: 3 [16000/60000 (27%)]\tLoss: 160.543701\n",
      "Train Epoch: 3 [19200/60000 (32%)]\tLoss: 175.206512\n",
      "Train Epoch: 3 [22400/60000 (37%)]\tLoss: 164.870514\n",
      "Train Epoch: 3 [25600/60000 (43%)]\tLoss: 165.516617\n",
      "Train Epoch: 3 [28800/60000 (48%)]\tLoss: 158.890594\n",
      "Train Epoch: 3 [32000/60000 (53%)]\tLoss: 168.370850\n",
      "Train Epoch: 3 [35200/60000 (59%)]\tLoss: 156.471313\n",
      "Train Epoch: 3 [38400/60000 (64%)]\tLoss: 166.871643\n",
      "Train Epoch: 3 [41600/60000 (69%)]\tLoss: 158.616302\n",
      "Train Epoch: 3 [44800/60000 (75%)]\tLoss: 166.035583\n",
      "Train Epoch: 3 [48000/60000 (80%)]\tLoss: 163.132111\n",
      "Train Epoch: 3 [51200/60000 (85%)]\tLoss: 167.807739\n",
      "Train Epoch: 3 [54400/60000 (91%)]\tLoss: 166.525391\n",
      "Train Epoch: 3 [57600/60000 (96%)]\tLoss: 172.626343\n",
      "====> Epoch: 3 Average loss: 164.6443\n",
      "Train Epoch: 4 [0/60000 (0%)]\tLoss: 164.001984\n",
      "Train Epoch: 4 [3200/60000 (5%)]\tLoss: 164.630981\n",
      "Train Epoch: 4 [6400/60000 (11%)]\tLoss: 153.488602\n",
      "Train Epoch: 4 [9600/60000 (16%)]\tLoss: 163.966293\n",
      "Train Epoch: 4 [12800/60000 (21%)]\tLoss: 172.484985\n",
      "Train Epoch: 4 [16000/60000 (27%)]\tLoss: 153.889923\n",
      "Train Epoch: 4 [19200/60000 (32%)]\tLoss: 154.125641\n",
      "Train Epoch: 4 [22400/60000 (37%)]\tLoss: 168.277740\n",
      "Train Epoch: 4 [25600/60000 (43%)]\tLoss: 156.723633\n",
      "Train Epoch: 4 [28800/60000 (48%)]\tLoss: 160.140381\n",
      "Train Epoch: 4 [32000/60000 (53%)]\tLoss: 172.160675\n",
      "Train Epoch: 4 [35200/60000 (59%)]\tLoss: 161.540436\n",
      "Train Epoch: 4 [38400/60000 (64%)]\tLoss: 157.549011\n",
      "Train Epoch: 4 [41600/60000 (69%)]\tLoss: 167.058441\n",
      "Train Epoch: 4 [44800/60000 (75%)]\tLoss: 159.636841\n",
      "Train Epoch: 4 [48000/60000 (80%)]\tLoss: 168.611572\n",
      "Train Epoch: 4 [51200/60000 (85%)]\tLoss: 158.182251\n",
      "Train Epoch: 4 [54400/60000 (91%)]\tLoss: 153.110779\n",
      "Train Epoch: 4 [57600/60000 (96%)]\tLoss: 168.536072\n",
      "====> Epoch: 4 Average loss: 163.4023\n",
      "Train Epoch: 5 [0/60000 (0%)]\tLoss: 167.608154\n",
      "Train Epoch: 5 [3200/60000 (5%)]\tLoss: 167.877045\n",
      "Train Epoch: 5 [6400/60000 (11%)]\tLoss: 160.379578\n",
      "Train Epoch: 5 [9600/60000 (16%)]\tLoss: 158.632721\n",
      "Train Epoch: 5 [12800/60000 (21%)]\tLoss: 157.863007\n",
      "Train Epoch: 5 [16000/60000 (27%)]\tLoss: 157.348618\n",
      "Train Epoch: 5 [19200/60000 (32%)]\tLoss: 153.284363\n",
      "Train Epoch: 5 [22400/60000 (37%)]\tLoss: 162.046143\n",
      "Train Epoch: 5 [25600/60000 (43%)]\tLoss: 159.397003\n",
      "Train Epoch: 5 [28800/60000 (48%)]\tLoss: 160.586243\n",
      "Train Epoch: 5 [32000/60000 (53%)]\tLoss: 158.150970\n",
      "Train Epoch: 5 [35200/60000 (59%)]\tLoss: 158.643066\n",
      "Train Epoch: 5 [38400/60000 (64%)]\tLoss: 159.856155\n",
      "Train Epoch: 5 [41600/60000 (69%)]\tLoss: 166.462128\n",
      "Train Epoch: 5 [44800/60000 (75%)]\tLoss: 157.739349\n",
      "Train Epoch: 5 [48000/60000 (80%)]\tLoss: 161.143433\n",
      "Train Epoch: 5 [51200/60000 (85%)]\tLoss: 156.863861\n",
      "Train Epoch: 5 [54400/60000 (91%)]\tLoss: 169.754395\n",
      "Train Epoch: 5 [57600/60000 (96%)]\tLoss: 159.639130\n",
      "====> Epoch: 5 Average loss: 162.7279\n",
      "Train Epoch: 6 [0/60000 (0%)]\tLoss: 164.545380\n",
      "Train Epoch: 6 [3200/60000 (5%)]\tLoss: 157.365326\n",
      "Train Epoch: 6 [6400/60000 (11%)]\tLoss: 156.135895\n",
      "Train Epoch: 6 [9600/60000 (16%)]\tLoss: 165.379028\n",
      "Train Epoch: 6 [12800/60000 (21%)]\tLoss: 161.894485\n",
      "Train Epoch: 6 [16000/60000 (27%)]\tLoss: 159.709152\n",
      "Train Epoch: 6 [19200/60000 (32%)]\tLoss: 170.467255\n",
      "Train Epoch: 6 [22400/60000 (37%)]\tLoss: 167.699707\n",
      "Train Epoch: 6 [25600/60000 (43%)]\tLoss: 164.259369\n",
      "Train Epoch: 6 [28800/60000 (48%)]\tLoss: 154.152100\n",
      "Train Epoch: 6 [32000/60000 (53%)]\tLoss: 161.873871\n",
      "Train Epoch: 6 [35200/60000 (59%)]\tLoss: 163.631287\n",
      "Train Epoch: 6 [38400/60000 (64%)]\tLoss: 160.344452\n",
      "Train Epoch: 6 [41600/60000 (69%)]\tLoss: 166.243576\n",
      "Train Epoch: 6 [44800/60000 (75%)]\tLoss: 162.869629\n",
      "Train Epoch: 6 [48000/60000 (80%)]\tLoss: 159.106339\n",
      "Train Epoch: 6 [51200/60000 (85%)]\tLoss: 160.416626\n",
      "Train Epoch: 6 [54400/60000 (91%)]\tLoss: 168.528381\n",
      "Train Epoch: 6 [57600/60000 (96%)]\tLoss: 165.417389\n",
      "====> Epoch: 6 Average loss: 162.2560\n",
      "Train Epoch: 7 [0/60000 (0%)]\tLoss: 165.959015\n",
      "Train Epoch: 7 [3200/60000 (5%)]\tLoss: 166.790741\n",
      "Train Epoch: 7 [6400/60000 (11%)]\tLoss: 165.362823\n",
      "Train Epoch: 7 [9600/60000 (16%)]\tLoss: 162.630249\n",
      "Train Epoch: 7 [12800/60000 (21%)]\tLoss: 161.019531\n",
      "Train Epoch: 7 [16000/60000 (27%)]\tLoss: 161.541611\n",
      "Train Epoch: 7 [19200/60000 (32%)]\tLoss: 163.296509\n",
      "Train Epoch: 7 [22400/60000 (37%)]\tLoss: 160.742462\n",
      "Train Epoch: 7 [25600/60000 (43%)]\tLoss: 169.835098\n",
      "Train Epoch: 7 [28800/60000 (48%)]\tLoss: 155.093582\n",
      "Train Epoch: 7 [32000/60000 (53%)]\tLoss: 155.854553\n",
      "Train Epoch: 7 [35200/60000 (59%)]\tLoss: 164.559143\n",
      "Train Epoch: 7 [38400/60000 (64%)]\tLoss: 162.238235\n",
      "Train Epoch: 7 [41600/60000 (69%)]\tLoss: 165.301056\n",
      "Train Epoch: 7 [44800/60000 (75%)]\tLoss: 162.571564\n",
      "Train Epoch: 7 [48000/60000 (80%)]\tLoss: 161.075531\n",
      "Train Epoch: 7 [51200/60000 (85%)]\tLoss: 160.959518\n",
      "Train Epoch: 7 [54400/60000 (91%)]\tLoss: 157.847931\n",
      "Train Epoch: 7 [57600/60000 (96%)]\tLoss: 165.651443\n",
      "====> Epoch: 7 Average loss: 161.8157\n",
      "Train Epoch: 8 [0/60000 (0%)]\tLoss: 160.194336\n",
      "Train Epoch: 8 [3200/60000 (5%)]\tLoss: 159.301147\n",
      "Train Epoch: 8 [6400/60000 (11%)]\tLoss: 163.570038\n",
      "Train Epoch: 8 [9600/60000 (16%)]\tLoss: 157.180328\n",
      "Train Epoch: 8 [12800/60000 (21%)]\tLoss: 158.210938\n",
      "Train Epoch: 8 [16000/60000 (27%)]\tLoss: 165.002655\n",
      "Train Epoch: 8 [19200/60000 (32%)]\tLoss: 156.182343\n",
      "Train Epoch: 8 [22400/60000 (37%)]\tLoss: 163.398056\n",
      "Train Epoch: 8 [25600/60000 (43%)]\tLoss: 150.165451\n",
      "Train Epoch: 8 [28800/60000 (48%)]\tLoss: 154.966217\n",
      "Train Epoch: 8 [32000/60000 (53%)]\tLoss: 164.089462\n",
      "Train Epoch: 8 [35200/60000 (59%)]\tLoss: 169.916565\n",
      "Train Epoch: 8 [38400/60000 (64%)]\tLoss: 164.562592\n",
      "Train Epoch: 8 [41600/60000 (69%)]\tLoss: 160.620728\n",
      "Train Epoch: 8 [44800/60000 (75%)]\tLoss: 156.262207\n",
      "Train Epoch: 8 [48000/60000 (80%)]\tLoss: 166.306915\n",
      "Train Epoch: 8 [51200/60000 (85%)]\tLoss: 170.135437\n",
      "Train Epoch: 8 [54400/60000 (91%)]\tLoss: 168.223663\n",
      "Train Epoch: 8 [57600/60000 (96%)]\tLoss: 160.888458\n",
      "====> Epoch: 8 Average loss: 161.4512\n",
      "Train Epoch: 9 [0/60000 (0%)]\tLoss: 157.636230\n",
      "Train Epoch: 9 [3200/60000 (5%)]\tLoss: 157.524902\n"
     ]
    },
    {
     "name": "stdout",
     "output_type": "stream",
     "text": [
      "Train Epoch: 9 [6400/60000 (11%)]\tLoss: 162.733276\n",
      "Train Epoch: 9 [9600/60000 (16%)]\tLoss: 157.325043\n",
      "Train Epoch: 9 [12800/60000 (21%)]\tLoss: 168.595627\n",
      "Train Epoch: 9 [16000/60000 (27%)]\tLoss: 164.048645\n",
      "Train Epoch: 9 [19200/60000 (32%)]\tLoss: 157.935181\n",
      "Train Epoch: 9 [22400/60000 (37%)]\tLoss: 161.650192\n",
      "Train Epoch: 9 [25600/60000 (43%)]\tLoss: 162.905121\n",
      "Train Epoch: 9 [28800/60000 (48%)]\tLoss: 158.270386\n",
      "Train Epoch: 9 [32000/60000 (53%)]\tLoss: 162.262619\n",
      "Train Epoch: 9 [35200/60000 (59%)]\tLoss: 155.569153\n",
      "Train Epoch: 9 [38400/60000 (64%)]\tLoss: 144.088135\n",
      "Train Epoch: 9 [41600/60000 (69%)]\tLoss: 161.732895\n",
      "Train Epoch: 9 [44800/60000 (75%)]\tLoss: 160.791901\n",
      "Train Epoch: 9 [48000/60000 (80%)]\tLoss: 158.807587\n",
      "Train Epoch: 9 [51200/60000 (85%)]\tLoss: 165.290710\n",
      "Train Epoch: 9 [54400/60000 (91%)]\tLoss: 164.322906\n",
      "Train Epoch: 9 [57600/60000 (96%)]\tLoss: 158.981964\n",
      "====> Epoch: 9 Average loss: 161.1742\n",
      "Train Epoch: 10 [0/60000 (0%)]\tLoss: 164.209610\n",
      "Train Epoch: 10 [3200/60000 (5%)]\tLoss: 163.621979\n",
      "Train Epoch: 10 [6400/60000 (11%)]\tLoss: 158.325851\n",
      "Train Epoch: 10 [9600/60000 (16%)]\tLoss: 158.216171\n",
      "Train Epoch: 10 [12800/60000 (21%)]\tLoss: 154.741486\n",
      "Train Epoch: 10 [16000/60000 (27%)]\tLoss: 156.464142\n",
      "Train Epoch: 10 [19200/60000 (32%)]\tLoss: 155.761765\n",
      "Train Epoch: 10 [22400/60000 (37%)]\tLoss: 162.990570\n",
      "Train Epoch: 10 [25600/60000 (43%)]\tLoss: 150.654495\n",
      "Train Epoch: 10 [28800/60000 (48%)]\tLoss: 160.722519\n",
      "Train Epoch: 10 [32000/60000 (53%)]\tLoss: 160.469452\n",
      "Train Epoch: 10 [35200/60000 (59%)]\tLoss: 154.600006\n",
      "Train Epoch: 10 [38400/60000 (64%)]\tLoss: 167.798447\n",
      "Train Epoch: 10 [41600/60000 (69%)]\tLoss: 160.437653\n",
      "Train Epoch: 10 [44800/60000 (75%)]\tLoss: 160.821075\n",
      "Train Epoch: 10 [48000/60000 (80%)]\tLoss: 159.246475\n",
      "Train Epoch: 10 [51200/60000 (85%)]\tLoss: 163.615387\n",
      "Train Epoch: 10 [54400/60000 (91%)]\tLoss: 164.727417\n",
      "Train Epoch: 10 [57600/60000 (96%)]\tLoss: 157.248688\n",
      "====> Epoch: 10 Average loss: 160.9553\n"
     ]
    }
   ],
   "source": [
    "from torchvision import datasets, transforms\n",
    "from torch import nn, optim\n",
    "\n",
    "# Load data\n",
    "train_data = datasets.MNIST('../data', train=True, download=True,\n",
    "                   transform=transforms.ToTensor())\n",
    "\n",
    "train_loader = torch.utils.data.DataLoader(train_data,\n",
    "                                           batch_size=batch_size, shuffle=True, **{})\n",
    "\n",
    "# Init model\n",
    "VAE_MNIST = VAE(fc1_dims=fc1_dims, fc21_dims=fc21_dims, fc22_dims=fc22_dims, fc3_dims=fc3_dims, fc4_dims=fc4_dims)\n",
    "\n",
    "# Init optimizer\n",
    "optimizer = optim.Adam(VAE_MNIST.parameters(), lr=lr)\n",
    "\n",
    "# Train\n",
    "for epoch in range(1, epochs + 1):\n",
    "    train(epoch, train_loader, VAE_MNIST, optimizer)\n"
   ]
  },
  {
   "cell_type": "markdown",
   "metadata": {
    "deletable": false,
    "editable": false,
    "nbgrader": {
     "checksum": "e2f8fcc9384e30cb154cf931f223898b",
     "grade": false,
     "grade_id": "cell-bd07c058c661b9c6",
     "locked": true,
     "schema_version": 1,
     "solution": false
    }
   },
   "source": [
    "Run the box below to check if the model you trained above is able to correctly reconstruct images."
   ]
  },
  {
   "cell_type": "code",
   "execution_count": 33,
   "metadata": {
    "deletable": false,
    "editable": false,
    "nbgrader": {
     "checksum": "80d198e03b1287741d761a12e38dcf73",
     "grade": false,
     "grade_id": "cell-df03d717307a6863",
     "locked": true,
     "schema_version": 1,
     "solution": false
    }
   },
   "outputs": [
    {
     "data": {
      "image/png": "[encoded data removed]",
      "text/plain": [
       "<Figure size 432x288 with 1 Axes>"
      ]
     },
     "metadata": {},
     "output_type": "display_data"
    },
    {
     "data": {
      "image/png": "[encoded data removed]",
      "text/plain": [
       "<Figure size 432x288 with 1 Axes>"
      ]
     },
     "metadata": {},
     "output_type": "display_data"
    },
    {
     "data": {
      "image/png": "[encoded data removed]",
      "text/plain": [
       "<Figure size 432x288 with 1 Axes>"
      ]
     },
     "metadata": {},
     "output_type": "display_data"
    },
    {
     "data": {
      "image/png": "[encoded data removed]",
      "text/plain": [
       "<Figure size 432x288 with 1 Axes>"
      ]
     },
     "metadata": {},
     "output_type": "display_data"
    }
   ],
   "source": [
    "### Let's check if the reconstructions make sense\n",
    "# Set model to test mode\n",
    "VAE_MNIST.eval()\n",
    "    \n",
    "# Reconstructed\n",
    "train_data_plot = datasets.MNIST('../data', train=True, download=True,\n",
    "                   transform=transforms.ToTensor())\n",
    "\n",
    "train_loader_plot = torch.utils.data.DataLoader(train_data_plot,\n",
    "                                           batch_size=1, shuffle=False, **{})\n",
    "\n",
    "for batch_idx, (data, _) in enumerate(train_loader_plot):\n",
    "    x_hat, mu, logvar = VAE_MNIST(data)\n",
    "    plt.imshow(x_hat.view(1,28,28).squeeze().data.numpy(), cmap='gray')\n",
    "    plt.title('%i' % train_data.train_labels[batch_idx])\n",
    "    plt.show()\n",
    "    if batch_idx == 3:\n",
    "        break\n"
   ]
  },
  {
   "cell_type": "markdown",
   "metadata": {
    "deletable": false,
    "editable": false,
    "nbgrader": {
     "checksum": "7f559122b150f5f1228d6b66b62f462c",
     "grade": false,
     "grade_id": "cell-76649d51fdf133dc",
     "locked": true,
     "schema_version": 1,
     "solution": false
    }
   },
   "source": [
    "### 2.8 Visualize latent space (20 points)\n",
    "Now, implement the auto-encoder now with a 2-dimensional latent space, and train again over the MNIST data. Make a visualization of the learned manifold by using a linearly spaced coordinate grid as input for the latent space, as seen in  https://arxiv.org/abs/1312.6114 Figure 4."
   ]
  },
  {
   "cell_type": "code",
   "execution_count": 39,
   "metadata": {
    "deletable": false,
    "nbgrader": {
     "checksum": "c879ffdb0d355349d7144a33d16ca93a",
     "grade": true,
     "grade_id": "cell-4a0af6d08d055bee",
     "locked": false,
     "points": 20,
     "schema_version": 1,
     "solution": true
    }
   },
   "outputs": [
    {
     "name": "stdout",
     "output_type": "stream",
     "text": [
      "Train Epoch: 1 [0/60000 (0%)]\tLoss: 547.153625\n",
      "Train Epoch: 1 [3200/60000 (5%)]\tLoss: 188.052429\n",
      "Train Epoch: 1 [6400/60000 (11%)]\tLoss: 190.143738\n",
      "Train Epoch: 1 [9600/60000 (16%)]\tLoss: 179.645370\n",
      "Train Epoch: 1 [12800/60000 (21%)]\tLoss: 182.345276\n",
      "Train Epoch: 1 [16000/60000 (27%)]\tLoss: 161.217484\n",
      "Train Epoch: 1 [19200/60000 (32%)]\tLoss: 170.309311\n",
      "Train Epoch: 1 [22400/60000 (37%)]\tLoss: 175.712341\n",
      "Train Epoch: 1 [25600/60000 (43%)]\tLoss: 166.049118\n",
      "Train Epoch: 1 [28800/60000 (48%)]\tLoss: 180.381287\n",
      "Train Epoch: 1 [32000/60000 (53%)]\tLoss: 177.655273\n",
      "Train Epoch: 1 [35200/60000 (59%)]\tLoss: 174.108444\n",
      "Train Epoch: 1 [38400/60000 (64%)]\tLoss: 166.939209\n",
      "Train Epoch: 1 [41600/60000 (69%)]\tLoss: 159.696930\n",
      "Train Epoch: 1 [44800/60000 (75%)]\tLoss: 170.256042\n",
      "Train Epoch: 1 [48000/60000 (80%)]\tLoss: 164.568298\n",
      "Train Epoch: 1 [51200/60000 (85%)]\tLoss: 173.763870\n",
      "Train Epoch: 1 [54400/60000 (91%)]\tLoss: 180.934219\n",
      "Train Epoch: 1 [57600/60000 (96%)]\tLoss: 175.072174\n",
      "====> Epoch: 1 Average loss: 172.6213\n",
      "Train Epoch: 2 [0/60000 (0%)]\tLoss: 166.377319\n",
      "Train Epoch: 2 [3200/60000 (5%)]\tLoss: 151.291718\n",
      "Train Epoch: 2 [6400/60000 (11%)]\tLoss: 174.878601\n",
      "Train Epoch: 2 [9600/60000 (16%)]\tLoss: 156.070282\n",
      "Train Epoch: 2 [12800/60000 (21%)]\tLoss: 163.246445\n",
      "Train Epoch: 2 [16000/60000 (27%)]\tLoss: 170.393158\n",
      "Train Epoch: 2 [19200/60000 (32%)]\tLoss: 180.597565\n",
      "Train Epoch: 2 [22400/60000 (37%)]\tLoss: 176.819489\n",
      "Train Epoch: 2 [25600/60000 (43%)]\tLoss: 153.679398\n",
      "Train Epoch: 2 [28800/60000 (48%)]\tLoss: 153.683838\n",
      "Train Epoch: 2 [32000/60000 (53%)]\tLoss: 171.405121\n",
      "Train Epoch: 2 [35200/60000 (59%)]\tLoss: 165.503571\n",
      "Train Epoch: 2 [38400/60000 (64%)]\tLoss: 170.499023\n",
      "Train Epoch: 2 [41600/60000 (69%)]\tLoss: 163.629562\n",
      "Train Epoch: 2 [44800/60000 (75%)]\tLoss: 147.155945\n",
      "Train Epoch: 2 [48000/60000 (80%)]\tLoss: 162.159561\n",
      "Train Epoch: 2 [51200/60000 (85%)]\tLoss: 163.344177\n",
      "Train Epoch: 2 [54400/60000 (91%)]\tLoss: 172.386856\n",
      "Train Epoch: 2 [57600/60000 (96%)]\tLoss: 165.215942\n",
      "====> Epoch: 2 Average loss: 163.9483\n",
      "Train Epoch: 3 [0/60000 (0%)]\tLoss: 170.512909\n",
      "Train Epoch: 3 [3200/60000 (5%)]\tLoss: 166.992111\n",
      "Train Epoch: 3 [6400/60000 (11%)]\tLoss: 157.641922\n",
      "Train Epoch: 3 [9600/60000 (16%)]\tLoss: 163.889252\n",
      "Train Epoch: 3 [12800/60000 (21%)]\tLoss: 163.812561\n",
      "Train Epoch: 3 [16000/60000 (27%)]\tLoss: 162.834625\n",
      "Train Epoch: 3 [19200/60000 (32%)]\tLoss: 163.007172\n",
      "Train Epoch: 3 [22400/60000 (37%)]\tLoss: 163.273544\n",
      "Train Epoch: 3 [25600/60000 (43%)]\tLoss: 154.929504\n",
      "Train Epoch: 3 [28800/60000 (48%)]\tLoss: 153.415985\n",
      "Train Epoch: 3 [32000/60000 (53%)]\tLoss: 147.426804\n",
      "Train Epoch: 3 [35200/60000 (59%)]\tLoss: 174.568756\n",
      "Train Epoch: 3 [38400/60000 (64%)]\tLoss: 158.562836\n",
      "Train Epoch: 3 [41600/60000 (69%)]\tLoss: 146.689423\n",
      "Train Epoch: 3 [44800/60000 (75%)]\tLoss: 159.375565\n",
      "Train Epoch: 3 [48000/60000 (80%)]\tLoss: 147.781952\n",
      "Train Epoch: 3 [51200/60000 (85%)]\tLoss: 158.939346\n",
      "Train Epoch: 3 [54400/60000 (91%)]\tLoss: 159.435150\n",
      "Train Epoch: 3 [57600/60000 (96%)]\tLoss: 167.753586\n",
      "====> Epoch: 3 Average loss: 161.6786\n"
     ]
    }
   ],
   "source": [
    "# YOUR CODE HERE\n",
    "fc1_dims = (784, 128)\n",
    "fc21_dims = (128, 2)\n",
    "fc22_dims = (128, 2)\n",
    "fc3_dims = (2, 128)\n",
    "fc4_dims = (128, 784)\n",
    "lr = 5e-3\n",
    "batch_size = 32\n",
    "epochs = 3\n",
    "\n",
    "# Init model\n",
    "VAE_MNIST = VAE(fc1_dims=fc1_dims, fc21_dims=fc21_dims, fc22_dims=fc22_dims, fc3_dims=fc3_dims, fc4_dims=fc4_dims)\n",
    "\n",
    "# Init optimizer\n",
    "optimizer = optim.Adam(VAE_MNIST.parameters(), lr=lr)\n",
    "\n",
    "# Train\n",
    "for epoch in range(1, epochs + 1):\n",
    "    train(epoch, train_loader, VAE_MNIST, optimizer)\n",
    "    \n",
    "u = np.linspace(-3.0,3.0,20) \n",
    "u_cube = np.asarray([[x, y] for x in u for y in u])\n",
    "n = np.shape(u_cube)[0]"
   ]
  },
  {
   "cell_type": "code",
   "execution_count": 40,
   "metadata": {
    "scrolled": true
   },
   "outputs": [
    {
     "data": {
      "image/png": "[encoded data removed]",
      "text/plain": [
       "<Figure size 1080x1080 with 400 Axes>"
      ]
     },
     "metadata": {},
     "output_type": "display_data"
    }
   ],
   "source": [
    "lin = np.linspace(-10.0, 10.0, 20) \n",
    "Z = []\n",
    "for i in lin:\n",
    "    for j in lin:\n",
    "        Z += [[i, j]]\n",
    "    \n",
    "x_hat = VAE_MNIST.decode(torch.FloatTensor(Z))\n",
    "x_hat = x_hat.data.numpy()\n",
    "\n",
    "f = plt.figure(figsize=(15, 15))\n",
    "for i in range(x_hat.shape[0]):        \n",
    "    ax = f.add_subplot(np.sqrt(x_hat.shape[0]), np.sqrt(x_hat.shape[0]), i + 1)\n",
    "    ax.imshow(x_hat[i,:].reshape((28, 28)), cmap='gray') \n",
    "    ax.axis('off')\n",
    "\n",
    "plt.show()"
   ]
  },
  {
   "cell_type": "markdown",
   "metadata": {
    "deletable": false,
    "editable": false,
    "nbgrader": {
     "checksum": "b9eb1684d646eea84a25638d184bfbda",
     "grade": false,
     "grade_id": "cell-dc5e1247a1e21009",
     "locked": true,
     "schema_version": 1,
     "solution": false
    }
   },
   "source": [
    "### 2.8 Amortized inference (10 points)\n",
    "What is amortized inference? Where in the code of Part 2 is it used? What is the benefit of using it?\n"
   ]
  },
  {
   "cell_type": "markdown",
   "metadata": {
    "deletable": false,
    "nbgrader": {
     "checksum": "364ed922da59070f319d0bdfb0e41d92",
     "grade": true,
     "grade_id": "cell-6f7808a9b0098dbf",
     "locked": false,
     "points": 10,
     "schema_version": 1,
     "solution": true
    }
   },
   "source": [
    "Amortized inference means that, if we want to do $$ min_\\theta L(b;a) $$, we can replace b with function of a and minimize this new target. So in our case, we assume that z can be converted into two parts, one is relative to x, another is about epsilon, which make us able to use method of gradient descent to train our model."
   ]
  },
  {
   "cell_type": "code",
   "execution_count": null,
   "metadata": {},
   "outputs": [],
   "source": []
  }
 ],
 "metadata": {
  "kernelspec": {
   "display_name": "Python 3",
   "language": "python",
   "name": "python3"
  },
  "language_info": {
   "codemirror_mode": {
    "name": "ipython",
    "version": 3
   },
   "file_extension": ".py",
   "mimetype": "text/x-python",
   "name": "python",
   "nbconvert_exporter": "python",
   "pygments_lexer": "ipython3",
   "version": "3.6.4"
  }
 },
 "nbformat": 4,
 "nbformat_minor": 2
}
